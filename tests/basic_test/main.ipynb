{
 "cells": [
  {
   "cell_type": "markdown",
   "id": "0",
   "metadata": {
    "tags": [
     "main.header"
    ]
   },
   "source": [
    "# `assignment name`: `assignment subtitle`\n",
    "_Version 0.0.1_\n",
    "\n",
    "*All of the header information is important. Please read it..*\n",
    "\n",
    "**Topics number of exercises:** This problem builds on your knowledge of `this, that, and the other`. It has **11** exercises numbered 0 to **10**. There are **total points** available points. However to earn 100% the threshold is **points cap** points. (Therefore once you hit **points cap** points you can stop. There is no extra credit for exceeding this threshold.)\n",
    "\n",
    "**Exercise ordering:** Each exercise builds logically on previous exercises but you may solve them in any order. That is if you can't solve an exercise you can still move on and try the next one. Use this to your advantage as the exercises are **not** necessarily ordered in terms of difficulty. Higher point values generally indicate more difficult exercises. \n",
    "\n",
    "**Demo cells:** Code cells starting with the comment `### Run Me!!!` load results from prior exercises applied to the entire data set and use those to build demo inputs. These must be run for subsequent demos to work properly but they do not affect the test cells. The data loaded in these cells may be rather large (at least in terms of human readability). You are free to print or otherwise use Python to explore them but we may not print them in the starter code.\n",
    "\n",
    "**Debugging your code:** Right before each exercise test cell there is a block of text explaining the variables available to you for debugging. You may use these to test your code and can print/display them as needed (careful when printing large objects you may want to print the head or chunks of rows at a time).\n",
    "\n",
    "**Exercise point breakdown:**\n",
    "\n",
    "\n",
    "- Exercise 0 - : **1** point(s)\n",
    "\n",
    "- Exercise 1 - : **1** point(s)\n",
    "\n",
    "- Exercise 2 - : **1** point(s)\n",
    "\n",
    "- Exercise 3 - : **1** point(s)\n",
    "\n",
    "- Exercise 4 - : **1** point(s)\n",
    "\n",
    "- Exercise 5 - : **1** point(s)\n",
    "\n",
    "- Exercise 6 - : **1** point(s)\n",
    "\n",
    "- Exercise 7 - : **1** point(s)\n",
    "\n",
    "- Exercise 8 - : **1** point(s)\n",
    "\n",
    "- Exercise 9 - : **1** point(s)\n",
    "\n",
    "- Exercise 10 - : **1** point(s)\n",
    "\n",
    "\n",
    "**Final reminders:** \n",
    "\n",
    "- Submit after **every exercise**\n",
    "- Review the generated grade report after you submit to see what errors were returned\n",
    "- Stay calm, skip problems as needed and take short breaks at your leisure"
   ]
  },
  {
   "cell_type": "code",
   "execution_count": null,
   "id": "1",
   "metadata": {
    "tags": [
     "main.global_imports"
    ]
   },
   "outputs": [],
   "source": [
    "### Global imports\n",
    "import dill\n",
    "from cse6040_devkit import plugins, utils\n",
    "from collections import Counter\n",
    "from pprint import pprint\n",
    "from sqlite3 import connect\n",
    "import pandas as pd \n",
    "import numpy as np \n",
    "from scipy.sparse import coo_matrix\n",
    "\n",
    "utils.add_from_file('do_something', utils)\n"
   ]
  },
  {
   "cell_type": "markdown",
   "id": "2",
   "metadata": {
    "tags": [
     "inverted_dictionary.prompt"
    ]
   },
   "source": [
    "### Exercise 0: (1 points)\n",
    "**inverted_dictionary**  \n",
    "\n",
    "**Your task:** define `invert_dict` as follows:\n",
    "\n",
    "Use input to create a new dictionary with keys and values swapped\n",
    "\n",
    "There are configuration options to determine behavior when there is not a one-to-one mapping of keys to distinct, hashable values.\n",
    "\n",
    "Args:\n",
    "- d (dict): dictionary to invert\n",
    "- allow_dup_vals (bool): \n",
    "    - When set to `True` the result will map any duplicated, hashable value in `d` to the `set` of its keys.\n",
    "    - When set to `False` a `ValueError` is raised if there are any duplicate, hashable values in `d`.\n",
    "- allow_unhashable_vals (bool): \n",
    "    -When set to `True` any unhashable values in `d` are not included in the result.  \n",
    "    -When set to `False` a `ValueError` is raised if there are any unhashable values in `d`.\n",
    "\n",
    "Raises:\n",
    "- ValueError: if there are duplicate values in `d` and `allow_dup_vals` is `False`.\n",
    "- ValueError: if there are unhashable values in `d` and `allow_unhashable_vals` is `False`.\n",
    "\n",
    "Returns:\n",
    "- dict: A new dictionary mapping the values of `d` to their associated keys.  \n"
   ]
  },
  {
   "cell_type": "code",
   "execution_count": null,
   "id": "3",
   "metadata": {
    "tags": [
     "inverted_dictionary.solution"
    ]
   },
   "outputs": [],
   "source": [
    "### Solution - Exercise 0  \n",
    "def invert_dict(d: dict, allow_dup_vals: bool, allow_unhashable_vals: bool) -> dict:\n",
    "    ### BEGIN SOLUTION\n",
    "    d_out = {}\n",
    "    for v, k in d.items():\n",
    "        if not utils.is_hashable(k):\n",
    "            if allow_unhashable_vals:\n",
    "                continue\n",
    "            else:\n",
    "                raise ValueError\n",
    "        if k in d_out:\n",
    "            if allow_dup_vals:\n",
    "                if isinstance(d_out[k], set):\n",
    "                    d_out[k].add(v)\n",
    "                else:\n",
    "                    d_out[k] = {d_out[k], v}\n",
    "                pass\n",
    "            else:\n",
    "                raise ValueError\n",
    "        else:\n",
    "            d_out[k] = v\n",
    "    return d_out\n",
    "    ### END SOLUTION\n",
    "\n",
    "### Demo function call\n",
    "# We use an error handler to catch errors raised by your solution\n",
    "# \n",
    "wrapped = plugins.error_handler(invert_dict)\n",
    "hashable_no_dups = {1:2, 3:4, 5:6}\n",
    "unhashable_no_dups = {1:[3,4,5], 2:3, 4:5, 7:[3,4,5]}\n",
    "unhashable_with_dups = {1:[3,4,5], 2:3, 4:5}\n",
    "hashable_with_dups = {1:2, 3:4, 5:2}\n",
    "test_grid = [[True, True], [True, False], [False, True], [False, False]]\n",
    "\n",
    "for tgi in test_grid:\n",
    "    print('tgi = ', dict(zip(['allow_dup_vals', 'allow_unhashable_vals'], tgi)))\n",
    "    print(f\"hashable_no_dups result: {wrapped(hashable_no_dups, *tgi)}\")\n",
    "    print(f\"unhashable_no_dups result: {wrapped(unhashable_no_dups, *tgi)}\")\n",
    "    print(f\"unhashable_with_dups result: {wrapped(unhashable_with_dups, *tgi)}\")\n",
    "    print(f\"hashable_with_dups result: {wrapped(hashable_with_dups, *tgi)}\")\n",
    "    print()"
   ]
  },
  {
   "cell_type": "markdown",
   "id": "4",
   "metadata": {
    "tags": [
     "inverted_dictionary.test_boilerplate"
    ]
   },
   "source": [
    " There are 4 possible combinations of having duplicates and being hashable. This means that there are possible states for the data and four possible states for the parameters. We have created a test grid with simple examples of all combinations.  \n",
    "\n",
    "\n",
    "**The demo should display this printed output.**\n",
    "```\n",
    "tgi =  {'allow_dup_vals': True, 'allow_unhashable_vals': True}\n",
    "hashable_no_dups result: (False, {2: 1, 4: 3, 6: 5})\n",
    "unhashable_no_dups result: (False, {3: 2, 5: 4})\n",
    "unhashable_with_dups result: (False, {3: 2, 5: 4})\n",
    "hashable_with_dups result: (False, {2: {1, 5}, 4: 3})\n",
    "\n",
    "tgi =  {'allow_dup_vals': True, 'allow_unhashable_vals': False}\n",
    "hashable_no_dups result: (False, {2: 1, 4: 3, 6: 5})\n",
    "unhashable_no_dups result: (True, None)\n",
    "unhashable_with_dups result: (True, None)\n",
    "hashable_with_dups result: (False, {2: {1, 5}, 4: 3})\n",
    "\n",
    "tgi =  {'allow_dup_vals': False, 'allow_unhashable_vals': True}\n",
    "hashable_no_dups result: (False, {2: 1, 4: 3, 6: 5})\n",
    "unhashable_no_dups result: (False, {3: 2, 5: 4})\n",
    "unhashable_with_dups result: (False, {3: 2, 5: 4})\n",
    "hashable_with_dups result: (True, None)\n",
    "\n",
    "tgi =  {'allow_dup_vals': False, 'allow_unhashable_vals': False}\n",
    "hashable_no_dups result: (False, {2: 1, 4: 3, 6: 5})\n",
    "unhashable_no_dups result: (True, None)\n",
    "unhashable_with_dups result: (True, None)\n",
    "hashable_with_dups result: (True, None)\n",
    "```\n",
    "\n",
    "\n",
    " ---\n",
    " <!-- Test Cell Boilerplate -->  \n",
    "The cell below will test your solution for inverted_dictionary (exercise 0). The testing variables will be available for debugging under the following names in a dictionary format.  \n",
    "- `input_vars` - Input variables for your solution.   \n",
    "- `original_input_vars` - Copy of input variables from prior to running your solution. Any `key:value` pair in `original_input_vars` should also exist in `input_vars` - otherwise the inputs were modified by your solution.  \n",
    "- `returned_output_vars` - Outputs returned by your solution.  \n",
    "- `true_output_vars` - The expected output. This _should_ \"match\" `returned_output_vars` based on the question requirements - otherwise, your solution is not returning the correct output. \n"
   ]
  },
  {
   "cell_type": "code",
   "execution_count": null,
   "id": "5",
   "metadata": {
    "nbgrader": {
     "grade": true,
     "grade_id": "ex_0",
     "locked": true,
     "points": 1,
     "solution": false
    },
    "tags": [
     "inverted_dictionary.test"
    ]
   },
   "outputs": [],
   "source": [
    "### Test Cell - Exercise 0  \n",
    "\n",
    "# Load testing utility\n",
    "with open('resource/asnlib/publicdata/execute_tests', 'rb') as f:\n",
    "    execute_tests = dill.load(f)\n",
    "\n",
    "# Execute test\n",
    "passed, test_case_vars, e = execute_tests(func=plugins.error_handler(invert_dict),\n",
    "              ex_name='inverted_dictionary',\n",
    "              key=b'6AfuzbXbZoimCVSPv56sgGDDXYXLpbmJ70319bJ5i54=', \n",
    "              n_iter=100)\n",
    "# Assign test case vars for debugging\n",
    "input_vars, original_input_vars, returned_output_vars, true_output_vars = test_case_vars\n",
    "if e: raise e\n",
    "assert passed, 'The solution to inverted_dictionary did not pass the test.'\n",
    "\n",
    "### BEGIN HIDDEN TESTS\n",
    "passed, test_case_vars, e = execute_tests(func=plugins.error_handler(invert_dict),\n",
    "              ex_name='inverted_dictionary',\n",
    "              key=b'b3LurxufK6uXEsHMqKTylu4CvoYNzO0Oa6ByQxb5P3s=', \n",
    "              n_iter=1,\n",
    "              hidden=True)\n",
    "input_vars, original_input_vars, returned_output_vars, true_output_vars = test_case_vars\n",
    "if e: raise e\n",
    "assert passed, 'The solution to inverted_dictionary did not pass the test.'\n",
    "### END HIDDEN TESTS\n",
    "print('Passed! Please submit.')"
   ]
  },
  {
   "cell_type": "code",
   "execution_count": null,
   "id": "6",
   "metadata": {
    "tags": [
     "concatenate_quotes.preload_objects"
    ]
   },
   "outputs": [],
   "source": [
    "### Run Me!!!\n",
    "demo_result_concatenate_quotes_TRUE = utils.load_object_from_publicdata('demo_result_concatenate_quotes_TRUE')\n"
   ]
  },
  {
   "cell_type": "markdown",
   "id": "7",
   "metadata": {
    "tags": [
     "concatenate_quotes.prompt"
    ]
   },
   "source": [
    "### Exercise 1: (1 points)\n",
    "**concatenate_quotes**  \n",
    "\n",
    "**Your task:** define `concatenate_quotes_query` as follows:\n",
    "\n",
    "Re-organize the data in the `quotes` table such that all `quote` values associated with a particular `character_name` are in a single row.  \n",
    "\n",
    "Result columns:  \n",
    "- `name` - The name of a character\n",
    "- `quotes` - All quote values associated with the character, concatenated together.\n",
    "    - Quotes should be ordered alphabetically.\n",
    "    - Quotes should be separated by the \"pipe\" character `'|'`.\n",
    "- `quote_count` - The number of quotes associated with the character."
   ]
  },
  {
   "cell_type": "markdown",
   "id": "8",
   "metadata": {},
   "source": [
    "**The result should be sorted from highest-to-lowest with respect to `quote_count` with ties being sorted alphabetically by `name`.**\n",
    "\n",
    "The quotes table has at least the following columns indicating quotations spoken by a character:\n",
    "\n",
    "- character_name (varchar): Name of the character\n",
    "- quote (varchar): A film quotation\n",
    "\n"
   ]
  },
  {
   "cell_type": "code",
   "execution_count": null,
   "id": "9",
   "metadata": {
    "tags": [
     "concatenate_quotes.solution"
    ]
   },
   "outputs": [],
   "source": [
    "### Solution - Exercise 1  \n",
    "\n",
    "concatenate_quotes_query = '''YOUR QUERY HERE'''\n",
    "### BEGIN SOLUTION\n",
    "concatenate_quotes_query = '''\n",
    "                        SELECT \n",
    "                            character_name AS name,\n",
    "                            GROUP_CONCAT(quote, '|') AS quotes,\n",
    "                            COUNT(*) AS quote_count\n",
    "                        FROM (SELECT * FROM quotes order by quote)\n",
    "                        GROUP BY character_name\n",
    "                        ORDER BY quote_count DESC, name'''\n",
    "### END SOLUTION\n",
    "\n",
    "### Demo function call\n",
    "with connect('resource/asnlib/publicdata/star_wars.db') as demo_conn:\n",
    "    demo_result_concatenate_quotes = plugins.sql_executor(concatenate_quotes_query)(demo_conn)\n",
    "utils.display_df_text_wrap(demo_result_concatenate_quotes)"
   ]
  },
  {
   "cell_type": "markdown",
   "id": "10",
   "metadata": {
    "tags": [
     "concatenate_quotes.test_boilerplate"
    ]
   },
   "source": [
    " \n",
    "\n",
    "**The demo should display this output.**  \n",
    "\n",
    "|    | name              | quotes                                                                                                                                                                                                                                                                                                                                                                                                                                                                                                                                                                                                                                                                                                                                                                                                                                                              |   quote_count |\n",
    "|---:|:------------------|:--------------------------------------------------------------------------------------------------------------------------------------------------------------------------------------------------------------------------------------------------------------------------------------------------------------------------------------------------------------------------------------------------------------------------------------------------------------------------------------------------------------------------------------------------------------------------------------------------------------------------------------------------------------------------------------------------------------------------------------------------------------------------------------------------------------------------------------------------------------------|--------------:|\n",
    "|  0 | Han Solo          | Boba Fett? Boba Fett? Where?\\|Chewie, we’re home.\\|Good against remotes is one thing. Good against the living, that’s something else.\\|Great, kid. Don’t get cocky.\\|I know.\\|I think I just blasted it.\\|I think you just can’t bear to let a gorgeous guy like me out of your sight.\\|I thought they smelled bad on the outside.\\|I've got a bad feeling about this.\\|It’s not my fault.\\|I’ll see you in hell!\\|I’m out of it for a little while, everyone gets delusions of grandeur.\\|I’ve got a bad feeling about this.\\|Laugh it up, fuzzball.\\|Never tell me the odds!\\|Who’s scruffy-looking?\\|You’re all clear, kid. Now let’s blow this thing and go home.\\|You’re all clear, kid. Now let’s blow this thing and go home.                                                                                                                                |            18 |\n",
    "|  1 | Obi-Wan Kenobi    | I have a bad feeling about this.\\|I will do what I must.\\|In my experience, there is no such thing as luck.\\|In my experience, there's no such thing as luck.\\|Remember, the Force will be with you, always.\\|Strike me down, and I will become more powerful than you could possibly imagine.\\|That’s no moon. It’s a space station.\\|The Force will be with you, always.\\|The Force will be with you, always.\\|The Force will be with you. Always.\\|These aren’t the droids you’re looking for.\\|This is the weapon of a Jedi Knight. Not as clumsy or random as a blaster; an elegant weapon for a more civilized age.\\|You were right about one thing, Master. The negotiations were short.\\|You were the Chosen One!\\|You will find that many of the truths we cling to depend greatly on our own point of view.\\|Your eyes can deceive you; don’t trust them. |            16 |\n",
    "|  2 | Darth Vader       | I am altering the deal. Pray I don’t alter it any further.\\|I am your father.\\|I am your father.\\|I am your father.\\|I find your lack of faith disturbing.\\|I find your lack of faith disturbing.\\|I find your lack of faith disturbing.\\|I’ve been waiting for you, Obi-Wan. We meet again, at last.\\|Just for once, let me look on you with my own eyes.\\|The Force is strong with this one.\\|The circle is now complete.\\|When I left you, I was but the learner. Now I am the master.\\|You don’t know the power of the dark side.\\|You have failed me for the last time, Admiral.                                                                                                                                                                                                                                                                               |            14 |\n",
    "|  3 | Luke Skywalker    | Do you know what I’ve become?\\|I am a Jedi, like my father before me.\\|I am a Jedi, like my father before me.\\|I am a Jedi, like my father before me.\\|I’ll never turn to the dark side.\\|I’ll never turn to the dark side.\\|I’ve got a bad feeling about this.\\|May the Force be with you.\\|My name is Luke Skywalker. I’m here to rescue you.\\|You have failed, your highness. I am a Jedi, like my father before me.\\|You serve your master well. And you will be rewarded.\\|Your overconfidence is your weakness.                                                                                                                                                                                                                                                                                                                                               |            12 |\n",
    "|  4 | Yoda              | A Jedi uses the Force for knowledge and defense, never for attack.\\|Adventure. Excitement. A Jedi craves not these things.\\|Do or do not, there is no try.\\|Fear is the path to the dark side.\\|Fear leads to anger, anger leads to hate, hate leads to suffering.\\|Judge me by my size, do you?\\|Luminous beings are we, not this crude matter.\\|Once you start down the dark path, forever will it dominate your destiny.\\|There is no emotion, there is peace.\\|Wars not make one great.\\|You must unlearn what you have learned.                                                                                                                                                                                                                                                                                                                                |            11 |\n",
    "|  5 | Leia Organa       | Help me, Obi-Wan Kenobi. You're my only hope.\\|I can’t believe he’s gone.\\|I love you.\\|Why, you stuck-up, half-witted, scruffy-looking Nerf herder!\\|Would somebody get this big walking carpet out of my way?\\|You do have your moments. Not many, but you have them.\\|You do have your moments. Not many, but you have them.                                                                                                                                                                                                                                                                                                                                                                                                                                                                                                                                     |             7 |\n",
    "|  6 | Emperor Palpatine | Now, young Skywalker, you will die.\\|Power! Unlimited power!\\|So be it, Jedi.\\|The dark side of the Force is a pathway to many abilities some consider to be unnatural.                                                                                                                                                                                                                                                                                                                                                                                                                                                                                                                                                                                                                                                                                             |             4 |\n",
    "|  7 | Anakin Skywalker  | I can’t watch anymore.\\|This is where the fun begins.                                                                                                                                                                                                                                                                                                                                                                                                                                                                                                                                                                                                                                                                                                                                                                                                               |             2 |\n",
    "|  8 | C-3PO             | We seem to be made to suffer. It’s our lot in life.\\|We’re doomed.                                                                                                                                                                                                                                                                                                                                                                                                                                                                                                                                                                                                                                                                                                                                                                                                  |             2 |\n",
    "|  9 | Lando Calrissian  | I’ve just made a deal that will keep the Empire out of here forever.\\|You look absolutely beautiful. You truly belong here with us among the clouds.                                                                                                                                                                                                                                                                                                                                                                                                                                                                                                                                                                                                                                                                                                                |             2 |\n",
    "| 10 | Padmé Amidala     | I will not let this Republic that has stood for a thousand years be split in two.\\|So this is how liberty dies. With thunderous applause.                                                                                                                                                                                                                                                                                                                                                                                                                                                                                                                                                                                                                                                                                                                           |             2 |\n",
    "| 11 | Qui-Gon Jinn      | There’s always a bigger fish.\\|Your focus determines your reality.                                                                                                                                                                                                                                                                                                                                                                                                                                                                                                                                                                                                                                                                                                                                                                                                  |             2 |\n",
    "| 12 | Admiral Ackbar    | It's a trap!                                                                                                                                                                                                                                                                                                                                                                                                                                                                                                                                                                                                                                                                                                                                                                                                                                                        |             1 |\n",
    "| 13 | Admiral Piett     | Bounty hunters. We don’t need their scum.                                                                                                                                                                                                                                                                                                                                                                                                                                                                                                                                                                                                                                                                                                                                                                                                                           |             1 |\n",
    "| 14 | Boba Fett         | He’s no good to me dead.                                                                                                                                                                                                                                                                                                                                                                                                                                                                                                                                                                                                                                                                                                                                                                                                                                            |             1 |\n",
    "| 15 | Count Dooku       | I sense great fear in you, Skywalker.                                                                                                                                                                                                                                                                                                                                                                                                                                                                                                                                                                                                                                                                                                                                                                                                                               |             1 |\n",
    "| 16 | Gold Five         | Stay on target.                                                                                                                                                                                                                                                                                                                                                                                                                                                                                                                                                                                                                                                                                                                                                                                                                                                     |             1 |\n",
    "| 17 | Opening Crawl     | A long time ago in a galaxy far, far away…                                                                                                                                                                                                                                                                                                                                                                                                                                                                                                                                                                                                                                                                                                                                                                                                                          |             1 |\n",
    "| 18 | Shmi Skywalker    | You can’t stop the change, any more than you can stop the suns from setting.                                                                                                                                                                                                                                                                                                                                                                                                                                                                                                                                                                                                                                                                                                                                                                                        |             1 |\n",
    "\n",
    "\n",
    " ---\n",
    " <!-- Test Cell Boilerplate -->  \n",
    "The cell below will test your solution for concatenate_quotes (exercise 1). The testing variables will be available for debugging under the following names in a dictionary format.  \n",
    "- `input_vars` - Input variables for your solution.   \n",
    "- `original_input_vars` - Copy of input variables from prior to running your solution. Any `key:value` pair in `original_input_vars` should also exist in `input_vars` - otherwise the inputs were modified by your solution.  \n",
    "- `returned_output_vars` - Outputs returned by your solution.  \n",
    "- `true_output_vars` - The expected output. This _should_ \"match\" `returned_output_vars` based on the question requirements - otherwise, your solution is not returning the correct output. \n"
   ]
  },
  {
   "cell_type": "code",
   "execution_count": null,
   "id": "11",
   "metadata": {
    "nbgrader": {
     "grade": true,
     "grade_id": "ex_1",
     "locked": true,
     "points": 1,
     "solution": false
    },
    "tags": [
     "concatenate_quotes.test"
    ]
   },
   "outputs": [],
   "source": [
    "### Test Cell - Exercise 1  \n",
    "\n",
    "# Load testing utility\n",
    "with open('resource/asnlib/publicdata/execute_tests', 'rb') as f:\n",
    "    execute_tests = dill.load(f)\n",
    "\n",
    "# Execute test\n",
    "passed, test_case_vars, e = execute_tests(func=plugins.sql_executor(concatenate_quotes_query),\n",
    "              ex_name='concatenate_quotes',\n",
    "              key=b'6AfuzbXbZoimCVSPv56sgGDDXYXLpbmJ70319bJ5i54=', \n",
    "              n_iter=100)\n",
    "# Assign test case vars for debugging\n",
    "input_vars, original_input_vars, returned_output_vars, true_output_vars = test_case_vars\n",
    "if e: raise e\n",
    "assert passed, 'The solution to concatenate_quotes did not pass the test.'\n",
    "\n",
    "### BEGIN HIDDEN TESTS\n",
    "passed, test_case_vars, e = execute_tests(func=plugins.sql_executor(concatenate_quotes_query),\n",
    "              ex_name='concatenate_quotes',\n",
    "              key=b'b3LurxufK6uXEsHMqKTylu4CvoYNzO0Oa6ByQxb5P3s=', \n",
    "              n_iter=1,\n",
    "              hidden=True)\n",
    "input_vars, original_input_vars, returned_output_vars, true_output_vars = test_case_vars\n",
    "if e: raise e\n",
    "assert passed, 'The solution to concatenate_quotes did not pass the test.'\n",
    "### END HIDDEN TESTS\n",
    "print('Passed! Please submit.')"
   ]
  },
  {
   "cell_type": "code",
   "execution_count": null,
   "id": "12",
   "metadata": {
    "tags": [
     "extract_article_words.preload_objects"
    ]
   },
   "outputs": [],
   "source": [
    "### Run Me!!!\n",
    "demo_result_extract_article_words_TRUE = utils.load_object_from_publicdata('demo_result_extract_article_words_TRUE')\n"
   ]
  },
  {
   "cell_type": "markdown",
   "id": "13",
   "metadata": {
    "tags": [
     "extract_article_words.prompt"
    ]
   },
   "source": [
    "### Exercise 2: (1 points)\n",
    "**extract_article_words**  \n",
    "\n",
    "**Your task:** define `extract_article_words` as follows:\n",
    "\n"
   ]
  },
  {
   "cell_type": "markdown",
   "id": "14",
   "metadata": {},
   "source": [
    "Given a dictionary, `record`, with the key `'Article'` mapped to a string of unstructured text, create a Python set containing all **distinct**, **lower-case** \"words\" in the text. For our purposes a \"word\" is _a sequence of **one or more** consecutive **letters**._"
   ]
  },
  {
   "cell_type": "code",
   "execution_count": null,
   "id": "15",
   "metadata": {
    "tags": [
     "extract_article_words.solution"
    ]
   },
   "outputs": [],
   "source": [
    "### Solution - Exercise 2  \n",
    "def extract_article_words(record: dict) -> set:\n",
    "    ### BEGIN SOLUTION\n",
    "    import re\n",
    "    return set(re.sub('[^\\w\\s]|[\\d_]', ' ', record['Article'].lower()).split())\n",
    "    ### END SOLUTION\n",
    "\n",
    "### Demo function call\n",
    "demo_record = {'Article': 'This is a \"news article\". \\n\\tNum-bers, punctuati0n, and under_scores aren\\'t letters, so they cannot be part of a word!',\n",
    "    'Date': '2/9/2015',\n",
    "    'Heading': 'hsbc admits swiss bank failings over client tax',\n",
    "    'NewsType': 'business'}\n",
    "demo_result_extract_article_words = extract_article_words(demo_record)\n",
    "print(demo_result_extract_article_words)\n"
   ]
  },
  {
   "cell_type": "markdown",
   "id": "16",
   "metadata": {
    "tags": [
     "extract_article_words.test_boilerplate"
    ]
   },
   "source": [
    " \n",
    "\n",
    "**The demo should display this printed output.**\n",
    "```\n",
    "{'punctuati', 'word', 'this', 'n', 'of', 'article', 'and', 't', 'part', 'they', 'cannot', 'under', 'news', 'aren', 'be', 'so', 'is', 'num', 'bers', 'scores', 'a', 'letters'}\n",
    "```\n",
    "\n",
    "\n",
    " ---\n",
    " <!-- Test Cell Boilerplate -->  \n",
    "The cell below will test your solution for extract_article_words (exercise 2). The testing variables will be available for debugging under the following names in a dictionary format.  \n",
    "- `input_vars` - Input variables for your solution.   \n",
    "- `original_input_vars` - Copy of input variables from prior to running your solution. Any `key:value` pair in `original_input_vars` should also exist in `input_vars` - otherwise the inputs were modified by your solution.  \n",
    "- `returned_output_vars` - Outputs returned by your solution.  \n",
    "- `true_output_vars` - The expected output. This _should_ \"match\" `returned_output_vars` based on the question requirements - otherwise, your solution is not returning the correct output. \n"
   ]
  },
  {
   "cell_type": "code",
   "execution_count": null,
   "id": "17",
   "metadata": {
    "nbgrader": {
     "grade": true,
     "grade_id": "ex_2",
     "locked": true,
     "points": 1,
     "solution": false
    },
    "tags": [
     "extract_article_words.test"
    ]
   },
   "outputs": [],
   "source": [
    "### Test Cell - Exercise 2  \n",
    "\n",
    "# Load testing utility\n",
    "with open('resource/asnlib/publicdata/execute_tests', 'rb') as f:\n",
    "    execute_tests = dill.load(f)\n",
    "\n",
    "# Execute test\n",
    "passed, test_case_vars, e = execute_tests(func=extract_article_words,\n",
    "              ex_name='extract_article_words',\n",
    "              key=b'6AfuzbXbZoimCVSPv56sgGDDXYXLpbmJ70319bJ5i54=', \n",
    "              n_iter=100)\n",
    "# Assign test case vars for debugging\n",
    "input_vars, original_input_vars, returned_output_vars, true_output_vars = test_case_vars\n",
    "if e: raise e\n",
    "assert passed, 'The solution to extract_article_words did not pass the test.'\n",
    "\n",
    "### BEGIN HIDDEN TESTS\n",
    "passed, test_case_vars, e = execute_tests(func=extract_article_words,\n",
    "              ex_name='extract_article_words',\n",
    "              key=b'b3LurxufK6uXEsHMqKTylu4CvoYNzO0Oa6ByQxb5P3s=', \n",
    "              n_iter=1,\n",
    "              hidden=True)\n",
    "input_vars, original_input_vars, returned_output_vars, true_output_vars = test_case_vars\n",
    "if e: raise e\n",
    "assert passed, 'The solution to extract_article_words did not pass the test.'\n",
    "### END HIDDEN TESTS\n",
    "print('Passed! Please submit.')"
   ]
  },
  {
   "cell_type": "code",
   "execution_count": null,
   "id": "18",
   "metadata": {
    "tags": [
     "count_articles.preload_objects"
    ]
   },
   "outputs": [],
   "source": [
    "### Run Me!!!\n",
    "demo_result_count_articles_TRUE = utils.load_object_from_publicdata('demo_result_count_articles_TRUE')\n"
   ]
  },
  {
   "cell_type": "markdown",
   "id": "19",
   "metadata": {
    "tags": [
     "count_articles.prompt"
    ]
   },
   "source": [
    "### Exercise 3: (1 points)\n",
    "**count_articles**  \n",
    "\n",
    "**Your task:** define `count_articles` as follows:\n",
    "\n",
    "Update a running count by one for each distinct word in an article.  \n",
    "\n",
    "Args:  \n",
    "- running_count (Counter): Maps words to the number of articles they have appeared in.  \n",
    "- article_words (set): The distinct words appearing in a single article.  \n",
    "\n",
    "Returns:  \n",
    "- Counter: Updated running total.\n"
   ]
  },
  {
   "cell_type": "code",
   "execution_count": null,
   "id": "20",
   "metadata": {
    "tags": [
     "count_articles.solution"
    ]
   },
   "outputs": [],
   "source": [
    "### Solution - Exercise 3  \n",
    "def count_articles(running_count: Counter, article_words):\n",
    "    ### BEGIN SOLUTION\n",
    "    return running_count + Counter(article_words)\n",
    "    ### END SOLUTION\n",
    "\n",
    "### Demo function call\n",
    "demo_running_count = Counter({'georgia': 3, 'tech': 5, 'jacket': 15})\n",
    "demo_article_words = {'ga', 'tech', 'yellow', 'jacket'}\n",
    "demo_result_count_articles = count_articles(demo_running_count, demo_article_words)\n",
    "pprint(demo_result_count_articles)"
   ]
  },
  {
   "cell_type": "markdown",
   "id": "21",
   "metadata": {
    "tags": [
     "count_articles.test_boilerplate"
    ]
   },
   "source": [
    " \n",
    "\n",
    "**The demo should display this output.**  \n",
    "\n",
    "Counter({'jacket': 16, 'tech': 6, 'georgia': 3, 'yellow': 1, 'ga': 1})\n",
    "\n",
    "\n",
    " ---\n",
    " <!-- Test Cell Boilerplate -->  \n",
    "The cell below will test your solution for count_articles (exercise 3). The testing variables will be available for debugging under the following names in a dictionary format.  \n",
    "- `input_vars` - Input variables for your solution.   \n",
    "- `original_input_vars` - Copy of input variables from prior to running your solution. Any `key:value` pair in `original_input_vars` should also exist in `input_vars` - otherwise the inputs were modified by your solution.  \n",
    "- `returned_output_vars` - Outputs returned by your solution.  \n",
    "- `true_output_vars` - The expected output. This _should_ \"match\" `returned_output_vars` based on the question requirements - otherwise, your solution is not returning the correct output. \n"
   ]
  },
  {
   "cell_type": "code",
   "execution_count": null,
   "id": "22",
   "metadata": {
    "nbgrader": {
     "grade": true,
     "grade_id": "ex_3",
     "locked": true,
     "points": 1,
     "solution": false
    },
    "tags": [
     "count_articles.test"
    ]
   },
   "outputs": [],
   "source": [
    "### Test Cell - Exercise 3  \n",
    "\n",
    "# Load testing utility\n",
    "with open('resource/asnlib/publicdata/execute_tests', 'rb') as f:\n",
    "    execute_tests = dill.load(f)\n",
    "\n",
    "# Execute test\n",
    "passed, test_case_vars, e = execute_tests(func=count_articles,\n",
    "              ex_name='count_articles',\n",
    "              key=b'6AfuzbXbZoimCVSPv56sgGDDXYXLpbmJ70319bJ5i54=', \n",
    "              n_iter=100)\n",
    "# Assign test case vars for debugging\n",
    "input_vars, original_input_vars, returned_output_vars, true_output_vars = test_case_vars\n",
    "if e: raise e\n",
    "assert passed, 'The solution to count_articles did not pass the test.'\n",
    "\n",
    "### BEGIN HIDDEN TESTS\n",
    "passed, test_case_vars, e = execute_tests(func=count_articles,\n",
    "              ex_name='count_articles',\n",
    "              key=b'b3LurxufK6uXEsHMqKTylu4CvoYNzO0Oa6ByQxb5P3s=', \n",
    "              n_iter=1,\n",
    "              hidden=True)\n",
    "input_vars, original_input_vars, returned_output_vars, true_output_vars = test_case_vars\n",
    "if e: raise e\n",
    "assert passed, 'The solution to count_articles did not pass the test.'\n",
    "### END HIDDEN TESTS\n",
    "print('Passed! Please submit.')"
   ]
  },
  {
   "cell_type": "markdown",
   "id": "23",
   "metadata": {},
   "source": [
    "### Map and Reduce\n",
    "\n",
    "The widely used Hadoop and Spark ecosystems use a concept called map-reduce to parallelize big data operations. The idea is to apply a transformation to each item in a data column then combine each transformed item into a running total value. This allows breaking up data across multiple machines for processing (map), computing a running total value for each machine (reduce), and finally combining the running total values from all the machines into a single result.   \n",
    "\n",
    "Consider this simple mapping function. It takes a single string argument and returns the same string in lower-case:\n",
    "\n",
    "```\n",
    "def map_fun(item):\n",
    "    assert isinstance(item, str), 'All items must be strings'\n",
    "    return item.lower()\n",
    "```\n",
    "\n",
    "If we apply `map_fun` to the list `demo_some_iter = ['This', 'is', 'An', 'ExAmpL3']`, we expect to get `['this', 'is', 'an', 'exampl3']`.\n",
    "\n",
    "Now consider this reducing function. It takes two arguments, `value` - which is the \"running total value\" and `item` which is the transformed value being combined into `value`. It returns the new \"running total value\".  \n",
    "\n",
    "```\n",
    "def red_fun(value, item):\n",
    "    assert isinstance(value, str), 'value must be a string'\n",
    "    return value + '|' + item\n",
    "```\n",
    "\n",
    "If we iterate over the items in our intermediate result updating our running total value using something like `value = red_fun(value, item)` in each iteration, we would get these snapshot results on each iteration:\n",
    "\n",
    "- `'this'`\n",
    "- `'this|is'`\n",
    "- `'this|is|an'`\n",
    "- `'this|is|an|exampl3'`"
   ]
  },
  {
   "cell_type": "code",
   "execution_count": null,
   "id": "24",
   "metadata": {
    "tags": [
     "record_examiner.preload_objects"
    ]
   },
   "outputs": [],
   "source": [
    "### Run Me!!!\n",
    "demo_result_record_examiner_TRUE = utils.load_object_from_publicdata('demo_result_record_examiner_TRUE')\n"
   ]
  },
  {
   "cell_type": "markdown",
   "id": "25",
   "metadata": {
    "tags": [
     "record_examiner.prompt"
    ]
   },
   "source": [
    "### Exercise 4: (1 points)\n",
    "**record_examiner**  \n",
    "\n",
    "**Your task:** define `record_examiner` as follows:\n",
    "\n",
    "Applies the `map_func` to each item in `some_iter` combines the results with `red_func`.\n",
    "\n",
    "Args:\n",
    "- some_iter (iterable): An iterable object.  \n",
    "- map_func (function): A function that takes a single input and returns a single output.  \n",
    "- red_func (function): A function which takes two inputs (`value` and `item`). It returns the result of \"combining\" `item` with `value`.\n",
    "- initial (any, optional): The initial `value` used in `red_func`. Defaults to None, which will not use an initial value.\n",
    "\n",
    "Returns:\n",
    "    any: The result of applying `map_func` to each item in `some_iter` and then combining them with `red_func`.\n"
   ]
  },
  {
   "cell_type": "code",
   "execution_count": null,
   "id": "26",
   "metadata": {
    "tags": [
     "record_examiner.solution"
    ]
   },
   "outputs": [],
   "source": [
    "### Solution - Exercise 4  \n",
    "def record_examiner(some_iter, map_func, red_func, initial=None):\n",
    "    ### BEGIN SOLUTION\n",
    "    from functools import reduce\n",
    "    if initial is not None:\n",
    "        return reduce(red_func, map(map_func, some_iter), initial)\n",
    "    else:\n",
    "        return reduce(red_func, map(map_func, some_iter))\n",
    "    ### END SOLUTION\n",
    "\n",
    "### Demo function call\n",
    "def insert_in_sorted_list(L, item):\n",
    "    '''Inserts an item into L such that L remains sorted\n",
    "    '''\n",
    "    import bisect\n",
    "    bisect.insort(L, item)\n",
    "    return L\n",
    "\n",
    "demo_input_vars = {\n",
    "    'some_iter': ['This', 'is', 'An', 'ExAmpL3'],\n",
    "    'map_func': lambda s: s.lower(),\n",
    "    'red_func': insert_in_sorted_list,\n",
    "    'initial': [] \n",
    "}\n",
    "demo_original_input_vars = {\n",
    "    'some_iter': ['This', 'is', 'An', 'ExAmpL3']        \n",
    "}\n",
    "demo_result_record_examiner = record_examiner(**demo_input_vars)\n",
    "print(demo_result_record_examiner)\n"
   ]
  },
  {
   "cell_type": "markdown",
   "id": "27",
   "metadata": {
    "tags": [
     "record_examiner.test_boilerplate"
    ]
   },
   "source": [
    " \n",
    "\n",
    "**The demo should display this printed output.**\n",
    "```\n",
    "['an', 'exampl3', 'is', 'this']\n",
    "```\n",
    "\n",
    "\n",
    " ---\n",
    " <!-- Test Cell Boilerplate -->  \n",
    "The cell below will test your solution for record_examiner (exercise 4). The testing variables will be available for debugging under the following names in a dictionary format.  \n",
    "- `input_vars` - Input variables for your solution.   \n",
    "- `original_input_vars` - Copy of input variables from prior to running your solution. Any `key:value` pair in `original_input_vars` should also exist in `input_vars` - otherwise the inputs were modified by your solution.  \n",
    "- `returned_output_vars` - Outputs returned by your solution.  \n",
    "- `true_output_vars` - The expected output. This _should_ \"match\" `returned_output_vars` based on the question requirements - otherwise, your solution is not returning the correct output. \n"
   ]
  },
  {
   "cell_type": "code",
   "execution_count": null,
   "id": "28",
   "metadata": {
    "nbgrader": {
     "grade": true,
     "grade_id": "ex_4",
     "locked": true,
     "points": 1,
     "solution": false
    },
    "tags": [
     "record_examiner.test"
    ]
   },
   "outputs": [],
   "source": [
    "### Test Cell - Exercise 4  \n",
    "\n",
    "# Load testing utility\n",
    "with open('resource/asnlib/publicdata/execute_tests', 'rb') as f:\n",
    "    execute_tests = dill.load(f)\n",
    "\n",
    "# Execute test\n",
    "passed, test_case_vars, e = execute_tests(func=record_examiner,\n",
    "              ex_name='record_examiner',\n",
    "              key=b'6AfuzbXbZoimCVSPv56sgGDDXYXLpbmJ70319bJ5i54=', \n",
    "              n_iter=100)\n",
    "# Assign test case vars for debugging\n",
    "input_vars, original_input_vars, returned_output_vars, true_output_vars = test_case_vars\n",
    "if e: raise e\n",
    "assert passed, 'The solution to record_examiner did not pass the test.'\n",
    "\n",
    "### BEGIN HIDDEN TESTS\n",
    "passed, test_case_vars, e = execute_tests(func=record_examiner,\n",
    "              ex_name='record_examiner',\n",
    "              key=b'b3LurxufK6uXEsHMqKTylu4CvoYNzO0Oa6ByQxb5P3s=', \n",
    "              n_iter=1,\n",
    "              hidden=True)\n",
    "input_vars, original_input_vars, returned_output_vars, true_output_vars = test_case_vars\n",
    "if e: raise e\n",
    "assert passed, 'The solution to record_examiner did not pass the test.'\n",
    "### END HIDDEN TESTS\n",
    "print('Passed! Please submit.')"
   ]
  },
  {
   "cell_type": "code",
   "execution_count": null,
   "id": "29",
   "metadata": {
    "tags": [
     "conn_to_df.preload_objects"
    ]
   },
   "outputs": [],
   "source": [
    "### Run Me!!!\n",
    "demo_result_conn_to_df_TRUE = utils.load_object_from_publicdata('demo_result_conn_to_df_TRUE')\n"
   ]
  },
  {
   "cell_type": "markdown",
   "id": "30",
   "metadata": {
    "tags": [
     "conn_to_df.prompt"
    ]
   },
   "source": [
    "### Exercise 5: (1 points)\n",
    "**conn_to_df**  \n",
    "\n",
    "**Your task:** define `concatenate_quotes_conn_to_df` as follows:\n",
    "\n",
    "Re-organize the data in the `quotes` table such that all `quote` values associated with a particular `character_name` are in a single row.  \n",
    "\n",
    "Args:\n",
    "\n",
    "- conn (sqlite3 connection): Connection with table called `quotes`.\n",
    "    - `quotes` will have `character_name` and `quote` columns attributing a film quote to a character. Each record is one film quote.\n",
    "\n",
    "Returns:\n",
    "- DataFrame: contains the following columns:\n",
    "    - `name` - The name of a character\n",
    "    - `quotes` - All quote values associated with the character, concatenated together.\n",
    "        - Quotes should be ordered alphabetically.\n",
    "        - Quotes should be separated by the \"pipe\" character `'|'`.\n",
    "    - `quote_count` - The number of quotes associated with the character. \n"
   ]
  },
  {
   "cell_type": "code",
   "execution_count": null,
   "id": "31",
   "metadata": {
    "tags": [
     "conn_to_df.solution"
    ]
   },
   "outputs": [],
   "source": [
    "### Solution - Exercise 5  \n",
    "def concatenate_quotes_conn_to_df(conn):\n",
    "    ### BEGIN SOLUTION\n",
    "    df = pd.read_sql('''\n",
    "                        SELECT \n",
    "                            character_name AS name,\n",
    "                            GROUP_CONCAT(quote, '|') AS quotes,\n",
    "                            COUNT(*) AS quote_count\n",
    "                        FROM (SELECT * FROM quotes order by quote)\n",
    "                        GROUP BY character_name\n",
    "                        ORDER BY quote_count DESC, name''',\n",
    "                    conn)\n",
    "    df = df.astype({'name': str,\n",
    "               'quotes': str,\n",
    "               'quote_count': int})\n",
    "    return df\n",
    "    ### END SOLUTION\n",
    "\n",
    "### Demo function call\n",
    "with connect('resource/asnlib/publicdata/star_wars.db') as demo_conn:\n",
    "    demo_result_conn_to_df = concatenate_quotes_conn_to_df(demo_conn)\n",
    "utils.display_df_text_wrap(demo_result_conn_to_df)"
   ]
  },
  {
   "cell_type": "markdown",
   "id": "32",
   "metadata": {
    "tags": [
     "conn_to_df.test_boilerplate"
    ]
   },
   "source": [
    " \n",
    "\n",
    "**The demo should display this output.**  \n",
    "\n",
    "|    | name              | quotes                                                                                                                                                                                                                                                                                                                                                                                                                                                                                                                                                                                                                                                                                                                                                                                                                                                              |   quote_count |\n",
    "|---:|:------------------|:--------------------------------------------------------------------------------------------------------------------------------------------------------------------------------------------------------------------------------------------------------------------------------------------------------------------------------------------------------------------------------------------------------------------------------------------------------------------------------------------------------------------------------------------------------------------------------------------------------------------------------------------------------------------------------------------------------------------------------------------------------------------------------------------------------------------------------------------------------------------|--------------:|\n",
    "|  0 | Han Solo          | Boba Fett? Boba Fett? Where?\\|Chewie, we’re home.\\|Good against remotes is one thing. Good against the living, that’s something else.\\|Great, kid. Don’t get cocky.\\|I know.\\|I think I just blasted it.\\|I think you just can’t bear to let a gorgeous guy like me out of your sight.\\|I thought they smelled bad on the outside.\\|I've got a bad feeling about this.\\|It’s not my fault.\\|I’ll see you in hell!\\|I’m out of it for a little while, everyone gets delusions of grandeur.\\|I’ve got a bad feeling about this.\\|Laugh it up, fuzzball.\\|Never tell me the odds!\\|Who’s scruffy-looking?\\|You’re all clear, kid. Now let’s blow this thing and go home.\\|You’re all clear, kid. Now let’s blow this thing and go home.                                                                                                                                |            18 |\n",
    "|  1 | Obi-Wan Kenobi    | I have a bad feeling about this.\\|I will do what I must.\\|In my experience, there is no such thing as luck.\\|In my experience, there's no such thing as luck.\\|Remember, the Force will be with you, always.\\|Strike me down, and I will become more powerful than you could possibly imagine.\\|That’s no moon. It’s a space station.\\|The Force will be with you, always.\\|The Force will be with you, always.\\|The Force will be with you. Always.\\|These aren’t the droids you’re looking for.\\|This is the weapon of a Jedi Knight. Not as clumsy or random as a blaster; an elegant weapon for a more civilized age.\\|You were right about one thing, Master. The negotiations were short.\\|You were the Chosen One!\\|You will find that many of the truths we cling to depend greatly on our own point of view.\\|Your eyes can deceive you; don’t trust them. |            16 |\n",
    "|  2 | Darth Vader       | I am altering the deal. Pray I don’t alter it any further.\\|I am your father.\\|I am your father.\\|I am your father.\\|I find your lack of faith disturbing.\\|I find your lack of faith disturbing.\\|I find your lack of faith disturbing.\\|I’ve been waiting for you, Obi-Wan. We meet again, at last.\\|Just for once, let me look on you with my own eyes.\\|The Force is strong with this one.\\|The circle is now complete.\\|When I left you, I was but the learner. Now I am the master.\\|You don’t know the power of the dark side.\\|You have failed me for the last time, Admiral.                                                                                                                                                                                                                                                                               |            14 |\n",
    "|  3 | Luke Skywalker    | Do you know what I’ve become?\\|I am a Jedi, like my father before me.\\|I am a Jedi, like my father before me.\\|I am a Jedi, like my father before me.\\|I’ll never turn to the dark side.\\|I’ll never turn to the dark side.\\|I’ve got a bad feeling about this.\\|May the Force be with you.\\|My name is Luke Skywalker. I’m here to rescue you.\\|You have failed, your highness. I am a Jedi, like my father before me.\\|You serve your master well. And you will be rewarded.\\|Your overconfidence is your weakness.                                                                                                                                                                                                                                                                                                                                               |            12 |\n",
    "|  4 | Yoda              | A Jedi uses the Force for knowledge and defense, never for attack.\\|Adventure. Excitement. A Jedi craves not these things.\\|Do or do not, there is no try.\\|Fear is the path to the dark side.\\|Fear leads to anger, anger leads to hate, hate leads to suffering.\\|Judge me by my size, do you?\\|Luminous beings are we, not this crude matter.\\|Once you start down the dark path, forever will it dominate your destiny.\\|There is no emotion, there is peace.\\|Wars not make one great.\\|You must unlearn what you have learned.                                                                                                                                                                                                                                                                                                                                |            11 |\n",
    "|  5 | Leia Organa       | Help me, Obi-Wan Kenobi. You're my only hope.\\|I can’t believe he’s gone.\\|I love you.\\|Why, you stuck-up, half-witted, scruffy-looking Nerf herder!\\|Would somebody get this big walking carpet out of my way?\\|You do have your moments. Not many, but you have them.\\|You do have your moments. Not many, but you have them.                                                                                                                                                                                                                                                                                                                                                                                                                                                                                                                                     |             7 |\n",
    "|  6 | Emperor Palpatine | Now, young Skywalker, you will die.\\|Power! Unlimited power!\\|So be it, Jedi.\\|The dark side of the Force is a pathway to many abilities some consider to be unnatural.                                                                                                                                                                                                                                                                                                                                                                                                                                                                                                                                                                                                                                                                                             |             4 |\n",
    "|  7 | Anakin Skywalker  | I can’t watch anymore.\\|This is where the fun begins.                                                                                                                                                                                                                                                                                                                                                                                                                                                                                                                                                                                                                                                                                                                                                                                                               |             2 |\n",
    "|  8 | C-3PO             | We seem to be made to suffer. It’s our lot in life.\\|We’re doomed.                                                                                                                                                                                                                                                                                                                                                                                                                                                                                                                                                                                                                                                                                                                                                                                                  |             2 |\n",
    "|  9 | Lando Calrissian  | I’ve just made a deal that will keep the Empire out of here forever.\\|You look absolutely beautiful. You truly belong here with us among the clouds.                                                                                                                                                                                                                                                                                                                                                                                                                                                                                                                                                                                                                                                                                                                |             2 |\n",
    "| 10 | Padmé Amidala     | I will not let this Republic that has stood for a thousand years be split in two.\\|So this is how liberty dies. With thunderous applause.                                                                                                                                                                                                                                                                                                                                                                                                                                                                                                                                                                                                                                                                                                                           |             2 |\n",
    "| 11 | Qui-Gon Jinn      | There’s always a bigger fish.\\|Your focus determines your reality.                                                                                                                                                                                                                                                                                                                                                                                                                                                                                                                                                                                                                                                                                                                                                                                                  |             2 |\n",
    "| 12 | Admiral Ackbar    | It's a trap!                                                                                                                                                                                                                                                                                                                                                                                                                                                                                                                                                                                                                                                                                                                                                                                                                                                        |             1 |\n",
    "| 13 | Admiral Piett     | Bounty hunters. We don’t need their scum.                                                                                                                                                                                                                                                                                                                                                                                                                                                                                                                                                                                                                                                                                                                                                                                                                           |             1 |\n",
    "| 14 | Boba Fett         | He’s no good to me dead.                                                                                                                                                                                                                                                                                                                                                                                                                                                                                                                                                                                                                                                                                                                                                                                                                                            |             1 |\n",
    "| 15 | Count Dooku       | I sense great fear in you, Skywalker.                                                                                                                                                                                                                                                                                                                                                                                                                                                                                                                                                                                                                                                                                                                                                                                                                               |             1 |\n",
    "| 16 | Gold Five         | Stay on target.                                                                                                                                                                                                                                                                                                                                                                                                                                                                                                                                                                                                                                                                                                                                                                                                                                                     |             1 |\n",
    "| 17 | Opening Crawl     | A long time ago in a galaxy far, far away…                                                                                                                                                                                                                                                                                                                                                                                                                                                                                                                                                                                                                                                                                                                                                                                                                          |             1 |\n",
    "| 18 | Shmi Skywalker    | You can’t stop the change, any more than you can stop the suns from setting.                                                                                                                                                                                                                                                                                                                                                                                                                                                                                                                                                                                                                                                                                                                                                                                        |             1 |\n",
    "\n",
    "\n",
    " ---\n",
    " <!-- Test Cell Boilerplate -->  \n",
    "The cell below will test your solution for conn_to_df (exercise 5). The testing variables will be available for debugging under the following names in a dictionary format.  \n",
    "- `input_vars` - Input variables for your solution.   \n",
    "- `original_input_vars` - Copy of input variables from prior to running your solution. Any `key:value` pair in `original_input_vars` should also exist in `input_vars` - otherwise the inputs were modified by your solution.  \n",
    "- `returned_output_vars` - Outputs returned by your solution.  \n",
    "- `true_output_vars` - The expected output. This _should_ \"match\" `returned_output_vars` based on the question requirements - otherwise, your solution is not returning the correct output. \n"
   ]
  },
  {
   "cell_type": "code",
   "execution_count": null,
   "id": "33",
   "metadata": {
    "nbgrader": {
     "grade": true,
     "grade_id": "ex_5",
     "locked": true,
     "points": 1,
     "solution": false
    },
    "tags": [
     "conn_to_df.test"
    ]
   },
   "outputs": [],
   "source": [
    "### Test Cell - Exercise 5  \n",
    "\n",
    "# Load testing utility\n",
    "with open('resource/asnlib/publicdata/execute_tests', 'rb') as f:\n",
    "    execute_tests = dill.load(f)\n",
    "\n",
    "# Execute test\n",
    "passed, test_case_vars, e = execute_tests(func=concatenate_quotes_conn_to_df,\n",
    "              ex_name='conn_to_df',\n",
    "              key=b'6AfuzbXbZoimCVSPv56sgGDDXYXLpbmJ70319bJ5i54=', \n",
    "              n_iter=100)\n",
    "# Assign test case vars for debugging\n",
    "input_vars, original_input_vars, returned_output_vars, true_output_vars = test_case_vars\n",
    "if e: raise e\n",
    "assert passed, 'The solution to conn_to_df did not pass the test.'\n",
    "\n",
    "### BEGIN HIDDEN TESTS\n",
    "passed, test_case_vars, e = execute_tests(func=concatenate_quotes_conn_to_df,\n",
    "              ex_name='conn_to_df',\n",
    "              key=b'b3LurxufK6uXEsHMqKTylu4CvoYNzO0Oa6ByQxb5P3s=', \n",
    "              n_iter=1,\n",
    "              hidden=True)\n",
    "input_vars, original_input_vars, returned_output_vars, true_output_vars = test_case_vars\n",
    "if e: raise e\n",
    "assert passed, 'The solution to conn_to_df did not pass the test.'\n",
    "### END HIDDEN TESTS\n",
    "print('Passed! Please submit.')"
   ]
  },
  {
   "cell_type": "code",
   "execution_count": null,
   "id": "34",
   "metadata": {
    "tags": [
     "species_count.preload_objects"
    ]
   },
   "outputs": [],
   "source": [
    "### Run Me!!!\n",
    "char_df = utils.load_object_from_publicdata('char_df')\n",
    "spec_df = utils.load_object_from_publicdata('spec_df')\n",
    "demo_result_species_count_TRUE = utils.load_object_from_publicdata('demo_result_species_count_TRUE')\n"
   ]
  },
  {
   "cell_type": "markdown",
   "id": "35",
   "metadata": {
    "tags": [
     "species_count.prompt"
    ]
   },
   "source": [
    "### Exercise 6: (1 points)\n",
    "**species_count**  \n",
    "\n",
    "**Your task:** define `species_count` as follows:\n",
    "\n",
    "Determine the count of characters in `char_df` belonging to each `classification` in `spec_df`.\n",
    "\n",
    "Args:\n",
    "- `char_df` (pd.DataFrame): contains character data including the 'name' and 'species' columns.\n",
    "- `spec_df` (pd.DataFrame): contains species data including the 'name' and 'classification' columns. The values in `spec_df['name']` refer to the same data as `char_df['species']`.\n",
    "\n",
    "Returns:\n",
    "- pd.DataFrame: contains the following columns:\n",
    "    - `classification` (str): species classification. Each row should have a distinct value in this column.\n",
    "    - `count` (int): count indicating how many characters from the `char_df` are members of a species with the `classification`.\n"
   ]
  },
  {
   "cell_type": "code",
   "execution_count": null,
   "id": "36",
   "metadata": {
    "tags": [
     "species_count.solution"
    ]
   },
   "outputs": [],
   "source": [
    "### Solution - Exercise 6  \n",
    "def species_count(char_df, spec_df):\n",
    "    ### BEGIN SOLUTION\n",
    "    ### BEGIN SOLUTION\n",
    "    merged = char_df.merge(spec_df, left_on='species', right_on='name')\n",
    "    return merged['classification'].value_counts().reset_index().set_axis(['classification', 'count'], axis=1)\n",
    "    ### END SOLUTION\n",
    "    ### END SOLUTION\n",
    "\n",
    "### Demo function call\n",
    "demo_result_species_count = species_count(char_df, spec_df)\n",
    "utils.display_df_text_wrap(demo_result_species_count)"
   ]
  },
  {
   "cell_type": "markdown",
   "id": "37",
   "metadata": {
    "tags": [
     "species_count.test_boilerplate"
    ]
   },
   "source": [
    " \n",
    "\n",
    "**The demo should display this output.**  \n",
    "\n",
    "|    | classification   |   count |\n",
    "|---:|:-----------------|--------:|\n",
    "|  0 | Mammal           |      74 |\n",
    "|  1 | Amphibian        |       4 |\n",
    "|  2 | Artificial       |       4 |\n",
    "|  3 | Reptilian        |       3 |\n",
    "|  4 | Hybrid           |       3 |\n",
    "|  5 | Unknown          |       1 |\n",
    "|  6 | Gastropod        |       1 |\n",
    "\n",
    "\n",
    " ---\n",
    " <!-- Test Cell Boilerplate -->  \n",
    "The cell below will test your solution for species_count (exercise 6). The testing variables will be available for debugging under the following names in a dictionary format.  \n",
    "- `input_vars` - Input variables for your solution.   \n",
    "- `original_input_vars` - Copy of input variables from prior to running your solution. Any `key:value` pair in `original_input_vars` should also exist in `input_vars` - otherwise the inputs were modified by your solution.  \n",
    "- `returned_output_vars` - Outputs returned by your solution.  \n",
    "- `true_output_vars` - The expected output. This _should_ \"match\" `returned_output_vars` based on the question requirements - otherwise, your solution is not returning the correct output. \n"
   ]
  },
  {
   "cell_type": "code",
   "execution_count": null,
   "id": "38",
   "metadata": {
    "nbgrader": {
     "grade": true,
     "grade_id": "ex_6",
     "locked": true,
     "points": 1,
     "solution": false
    },
    "tags": [
     "species_count.test"
    ]
   },
   "outputs": [],
   "source": [
    "### Test Cell - Exercise 6  \n",
    "\n",
    "# Load testing utility\n",
    "with open('resource/asnlib/publicdata/execute_tests', 'rb') as f:\n",
    "    execute_tests = dill.load(f)\n",
    "\n",
    "# Execute test\n",
    "passed, test_case_vars, e = execute_tests(func=species_count,\n",
    "              ex_name='species_count',\n",
    "              key=b'6AfuzbXbZoimCVSPv56sgGDDXYXLpbmJ70319bJ5i54=', \n",
    "              n_iter=100)\n",
    "# Assign test case vars for debugging\n",
    "input_vars, original_input_vars, returned_output_vars, true_output_vars = test_case_vars\n",
    "if e: raise e\n",
    "assert passed, 'The solution to species_count did not pass the test.'\n",
    "\n",
    "### BEGIN HIDDEN TESTS\n",
    "passed, test_case_vars, e = execute_tests(func=species_count,\n",
    "              ex_name='species_count',\n",
    "              key=b'b3LurxufK6uXEsHMqKTylu4CvoYNzO0Oa6ByQxb5P3s=', \n",
    "              n_iter=1,\n",
    "              hidden=True)\n",
    "input_vars, original_input_vars, returned_output_vars, true_output_vars = test_case_vars\n",
    "if e: raise e\n",
    "assert passed, 'The solution to species_count did not pass the test.'\n",
    "### END HIDDEN TESTS\n",
    "print('Passed! Please submit.')"
   ]
  },
  {
   "cell_type": "markdown",
   "id": "39",
   "metadata": {
    "tags": [
     "count_values.prompt"
    ]
   },
   "source": [
    "### Exercise 7: (1 points)\n",
    "**count_values**  \n",
    "\n",
    "**Your task:** define `count_values` as follows:\n",
    "\n",
    "Get the count of each distinct value in a Pandas Series  \n",
    "\n",
    "Args:  \n",
    "\n",
    "- s (pd.Series): Any Pandas Series\n",
    "\n",
    "Return:  \n",
    "\n",
    "- pd.Series: The index of the result series is all distinct values from the input Series, `s`. The values of the result series are the occurrance counts of the index within the input Series, `s`.\n"
   ]
  },
  {
   "cell_type": "code",
   "execution_count": null,
   "id": "40",
   "metadata": {
    "tags": [
     "count_values.preload_objects"
    ]
   },
   "outputs": [],
   "source": [
    "### Run Me!!!\n",
    "demo_result_count_values_TRUE = utils.load_object_from_publicdata('demo_result_count_values_TRUE')\n"
   ]
  },
  {
   "cell_type": "code",
   "execution_count": null,
   "id": "41",
   "metadata": {
    "tags": [
     "count_values.solution"
    ]
   },
   "outputs": [],
   "source": [
    "### Solution - Exercise 7  \n",
    "def count_values(s):\n",
    "    ### BEGIN SOLUTION\n",
    "    return s.value_counts()\n",
    "    ### END SOLUTION\n",
    "\n",
    "### Demo function call\n",
    "demo_s = pd.Series([1,2,3,3,2,2,2,1,1,1,2,3,1,2,3,1,2,3])\n",
    "demo_result_count_values = count_values(demo_s)\n",
    "print(demo_result_count_values)\n"
   ]
  },
  {
   "cell_type": "markdown",
   "id": "42",
   "metadata": {
    "tags": [
     "count_values.test_boilerplate"
    ]
   },
   "source": [
    " \n",
    "\n",
    "**The demo should display this printed output.**\n",
    "```\n",
    "2    7\n",
    "1    6\n",
    "3    5\n",
    "Name: count, dtype: int64\n",
    "```\n",
    "\n",
    "\n",
    " ---\n",
    " <!-- Test Cell Boilerplate -->  \n",
    "The cell below will test your solution for count_values (exercise 7). The testing variables will be available for debugging under the following names in a dictionary format.  \n",
    "- `input_vars` - Input variables for your solution.   \n",
    "- `original_input_vars` - Copy of input variables from prior to running your solution. Any `key:value` pair in `original_input_vars` should also exist in `input_vars` - otherwise the inputs were modified by your solution.  \n",
    "- `returned_output_vars` - Outputs returned by your solution.  \n",
    "- `true_output_vars` - The expected output. This _should_ \"match\" `returned_output_vars` based on the question requirements - otherwise, your solution is not returning the correct output. \n"
   ]
  },
  {
   "cell_type": "code",
   "execution_count": null,
   "id": "43",
   "metadata": {
    "nbgrader": {
     "grade": true,
     "grade_id": "ex_7",
     "locked": true,
     "points": 1,
     "solution": false
    },
    "tags": [
     "count_values.test"
    ]
   },
   "outputs": [],
   "source": [
    "### Test Cell - Exercise 7  \n",
    "\n",
    "# Load testing utility\n",
    "with open('resource/asnlib/publicdata/execute_tests', 'rb') as f:\n",
    "    execute_tests = dill.load(f)\n",
    "\n",
    "# Execute test\n",
    "passed, test_case_vars, e = execute_tests(func=count_values,\n",
    "              ex_name='count_values',\n",
    "              key=b'6AfuzbXbZoimCVSPv56sgGDDXYXLpbmJ70319bJ5i54=', \n",
    "              n_iter=100)\n",
    "# Assign test case vars for debugging\n",
    "input_vars, original_input_vars, returned_output_vars, true_output_vars = test_case_vars\n",
    "if e: raise e\n",
    "assert passed, 'The solution to count_values did not pass the test.'\n",
    "\n",
    "### BEGIN HIDDEN TESTS\n",
    "passed, test_case_vars, e = execute_tests(func=count_values,\n",
    "              ex_name='count_values',\n",
    "              key=b'b3LurxufK6uXEsHMqKTylu4CvoYNzO0Oa6ByQxb5P3s=', \n",
    "              n_iter=1,\n",
    "              hidden=True)\n",
    "input_vars, original_input_vars, returned_output_vars, true_output_vars = test_case_vars\n",
    "if e: raise e\n",
    "assert passed, 'The solution to count_values did not pass the test.'\n",
    "### END HIDDEN TESTS\n",
    "print('Passed! Please submit.')"
   ]
  },
  {
   "cell_type": "code",
   "execution_count": null,
   "id": "44",
   "metadata": {
    "tags": [
     "mat_vec_div.preload_objects"
    ]
   },
   "outputs": [],
   "source": [
    "### Run Me!!!\n",
    "demo_result_mat_vec_div_TRUE = utils.load_object_from_publicdata('demo_result_mat_vec_div_TRUE')\n"
   ]
  },
  {
   "cell_type": "markdown",
   "id": "45",
   "metadata": {
    "tags": [
     "mat_vec_div.prompt"
    ]
   },
   "source": [
    "### Exercise 8: (1 points)\n",
    "**mat_vec_div**  \n",
    "\n",
    "**Your task:** define `mat_vec_div` as follows:\n",
    "\n",
    "Compute matrix-vector product of $Ax^{-1}$  \n",
    "\n",
    "Args:\n",
    "\n",
    "- A (np.ndarray): A 2-D numeric array\n",
    "- x (np.ndarray): A 1-D numeric array\n",
    "\n",
    "Returns:\n",
    "\n",
    "- np.ndarray: The matrix-vector product of `A` and _the inverse of_ `x`.\n"
   ]
  },
  {
   "cell_type": "markdown",
   "id": "46",
   "metadata": {},
   "source": [
    "Mathematically, the inverse of a vector,  $x$, is the vector, $x^{-1}$, such that $x^{-1}x = 1$. You should be able to convince yourself that  \n",
    "\n",
    "$$x^{-1} = \\frac{x}{\\|x\\|^2}$$\n",
    "\n",
    "For example, consider when $x$ is $[1, 2]$. This makes $\\|x\\|^2 = 1^2 + 2^2 = 5$. This makes $x^{-1} = [0.2, 0.4]$"
   ]
  },
  {
   "cell_type": "code",
   "execution_count": null,
   "id": "47",
   "metadata": {
    "tags": [
     "mat_vec_div.solution"
    ]
   },
   "outputs": [],
   "source": [
    "### Solution - Exercise 8  \n",
    "def mat_vec_div(A, x):\n",
    "    ### BEGIN SOLUTION\n",
    "    x_inv = x / x.dot(x.T)\n",
    "    return A.dot(x_inv).round(3)\n",
    "    ### END SOLUTION\n",
    "\n",
    "### Demo function call\n",
    "demo_A = np.array([[1,2], [7,4]])\n",
    "demo_x = np.array([1,2])\n",
    "\n",
    "demo_result_mat_vec_div = mat_vec_div(demo_A, demo_x)\n",
    "print(demo_result_mat_vec_div)\n"
   ]
  },
  {
   "cell_type": "markdown",
   "id": "48",
   "metadata": {
    "tags": [
     "mat_vec_div.test_boilerplate"
    ]
   },
   "source": [
    " \n",
    "\n",
    "**The demo should display this printed output.**\n",
    "```\n",
    "[1. 3.]\n",
    "```\n",
    "\n",
    "\n",
    " ---\n",
    " <!-- Test Cell Boilerplate -->  \n",
    "The cell below will test your solution for mat_vec_div (exercise 8). The testing variables will be available for debugging under the following names in a dictionary format.  \n",
    "- `input_vars` - Input variables for your solution.   \n",
    "- `original_input_vars` - Copy of input variables from prior to running your solution. Any `key:value` pair in `original_input_vars` should also exist in `input_vars` - otherwise the inputs were modified by your solution.  \n",
    "- `returned_output_vars` - Outputs returned by your solution.  \n",
    "- `true_output_vars` - The expected output. This _should_ \"match\" `returned_output_vars` based on the question requirements - otherwise, your solution is not returning the correct output. \n"
   ]
  },
  {
   "cell_type": "code",
   "execution_count": null,
   "id": "49",
   "metadata": {
    "nbgrader": {
     "grade": true,
     "grade_id": "ex_8",
     "locked": true,
     "points": 1,
     "solution": false
    },
    "tags": [
     "mat_vec_div.test"
    ]
   },
   "outputs": [],
   "source": [
    "### Test Cell - Exercise 8  \n",
    "\n",
    "# Load testing utility\n",
    "with open('resource/asnlib/publicdata/execute_tests', 'rb') as f:\n",
    "    execute_tests = dill.load(f)\n",
    "\n",
    "# Execute test\n",
    "passed, test_case_vars, e = execute_tests(func=mat_vec_div,\n",
    "              ex_name='mat_vec_div',\n",
    "              key=b'6AfuzbXbZoimCVSPv56sgGDDXYXLpbmJ70319bJ5i54=', \n",
    "              n_iter=100)\n",
    "# Assign test case vars for debugging\n",
    "input_vars, original_input_vars, returned_output_vars, true_output_vars = test_case_vars\n",
    "if e: raise e\n",
    "assert passed, 'The solution to mat_vec_div did not pass the test.'\n",
    "\n",
    "### BEGIN HIDDEN TESTS\n",
    "passed, test_case_vars, e = execute_tests(func=mat_vec_div,\n",
    "              ex_name='mat_vec_div',\n",
    "              key=b'b3LurxufK6uXEsHMqKTylu4CvoYNzO0Oa6ByQxb5P3s=', \n",
    "              n_iter=1,\n",
    "              hidden=True)\n",
    "input_vars, original_input_vars, returned_output_vars, true_output_vars = test_case_vars\n",
    "if e: raise e\n",
    "assert passed, 'The solution to mat_vec_div did not pass the test.'\n",
    "### END HIDDEN TESTS\n",
    "print('Passed! Please submit.')"
   ]
  },
  {
   "cell_type": "code",
   "execution_count": null,
   "id": "50",
   "metadata": {
    "tags": [
     "df_to_coo.preload_objects"
    ]
   },
   "outputs": [],
   "source": [
    "### Run Me!!!\n",
    "demo_result_df_to_coo_TRUE = utils.load_object_from_publicdata('demo_result_df_to_coo_TRUE')\n"
   ]
  },
  {
   "cell_type": "markdown",
   "id": "51",
   "metadata": {
    "tags": [
     "df_to_coo.prompt"
    ]
   },
   "source": [
    "### Exercise 9: (1 points)\n",
    "**df_to_coo**  \n",
    "\n",
    "**Your task:** define `df_to_coo` as follows:\n",
    "\n",
    "\n",
    "Create a COO matrix based off of a DataFrame\n",
    "\n",
    "Args:\n",
    "- df (DataFrame): A DataFrame representing a data matrix.\n",
    "    - `data` is the value at position (`row`, `col) in the matrix.\n",
    "- shape (tuple): Shape of the data matrix\n",
    "\n",
    "Returns:\n",
    "- scipy.sparse.coo_matrix: The matrix given by `df`.\n"
   ]
  },
  {
   "cell_type": "code",
   "execution_count": null,
   "id": "52",
   "metadata": {
    "tags": [
     "df_to_coo.solution"
    ]
   },
   "outputs": [],
   "source": [
    "### Solution - Exercise 9  \n",
    "def df_to_coo(df, shape):\n",
    "    ### BEGIN SOLUTION\n",
    "    return coo_matrix((df['data'], (df['row'], df['col'])), shape)\n",
    "    ### END SOLUTION\n",
    "\n",
    "### Demo function call\n",
    "demo_shape = (33, 45)\n",
    "demo_df = pd.DataFrame({'data': [2,3,4],\n",
    "                        'row': [2, 20, 10],\n",
    "                        'col': [4, 1, 30]})\n",
    "demo_result_df_to_coo = df_to_coo(demo_df, demo_shape)\n",
    "print(demo_result_df_to_coo)\n",
    "print(f'{demo_result_df_to_coo.shape=}')\n",
    "print(f'{demo_result_df_to_coo.data=}')\n",
    "print(f'{demo_result_df_to_coo.row=}')\n",
    "print(f'{demo_result_df_to_coo.col=}')\n"
   ]
  },
  {
   "cell_type": "markdown",
   "id": "53",
   "metadata": {
    "tags": [
     "df_to_coo.test_boilerplate"
    ]
   },
   "source": [
    " \n",
    "\n",
    "**The demo should display this printed output.**\n",
    "```\n",
    "(2, 4)\t2\n",
    "  (20, 1)\t3\n",
    "  (10, 30)\t4\n",
    "demo_result_df_to_coo.shape=(33, 45)\n",
    "demo_result_df_to_coo.data=array([2, 3, 4])\n",
    "demo_result_df_to_coo.row=array([ 2, 20, 10], dtype=int32)\n",
    "demo_result_df_to_coo.col=array([ 4,  1, 30], dtype=int32)\n",
    "```\n",
    "\n",
    "\n",
    " ---\n",
    " <!-- Test Cell Boilerplate -->  \n",
    "The cell below will test your solution for df_to_coo (exercise 9). The testing variables will be available for debugging under the following names in a dictionary format.  \n",
    "- `input_vars` - Input variables for your solution.   \n",
    "- `original_input_vars` - Copy of input variables from prior to running your solution. Any `key:value` pair in `original_input_vars` should also exist in `input_vars` - otherwise the inputs were modified by your solution.  \n",
    "- `returned_output_vars` - Outputs returned by your solution.  \n",
    "- `true_output_vars` - The expected output. This _should_ \"match\" `returned_output_vars` based on the question requirements - otherwise, your solution is not returning the correct output. \n"
   ]
  },
  {
   "cell_type": "code",
   "execution_count": null,
   "id": "54",
   "metadata": {
    "nbgrader": {
     "grade": true,
     "grade_id": "ex_9",
     "locked": true,
     "points": 1,
     "solution": false
    },
    "tags": [
     "df_to_coo.test"
    ]
   },
   "outputs": [],
   "source": [
    "### Test Cell - Exercise 9  \n",
    "\n",
    "# Load testing utility\n",
    "with open('resource/asnlib/publicdata/execute_tests', 'rb') as f:\n",
    "    execute_tests = dill.load(f)\n",
    "\n",
    "# Execute test\n",
    "passed, test_case_vars, e = execute_tests(func=plugins.coo_plugin(df_to_coo),\n",
    "              ex_name='df_to_coo',\n",
    "              key=b'6AfuzbXbZoimCVSPv56sgGDDXYXLpbmJ70319bJ5i54=', \n",
    "              n_iter=100)\n",
    "# Assign test case vars for debugging\n",
    "input_vars, original_input_vars, returned_output_vars, true_output_vars = test_case_vars\n",
    "if e: raise e\n",
    "assert passed, 'The solution to df_to_coo did not pass the test.'\n",
    "\n",
    "### BEGIN HIDDEN TESTS\n",
    "passed, test_case_vars, e = execute_tests(func=plugins.coo_plugin(df_to_coo),\n",
    "              ex_name='df_to_coo',\n",
    "              key=b'b3LurxufK6uXEsHMqKTylu4CvoYNzO0Oa6ByQxb5P3s=', \n",
    "              n_iter=1,\n",
    "              hidden=True)\n",
    "input_vars, original_input_vars, returned_output_vars, true_output_vars = test_case_vars\n",
    "if e: raise e\n",
    "assert passed, 'The solution to df_to_coo did not pass the test.'\n",
    "### END HIDDEN TESTS\n",
    "print('Passed! Please submit.')"
   ]
  },
  {
   "cell_type": "markdown",
   "id": "55",
   "metadata": {
    "tags": [
     "load_the_data.prompt"
    ]
   },
   "source": [
    "### Exercise 10: (1 points)\n",
    "**load_the_data**  \n",
    "\n",
    "**Example:** we have defined `load_the_data` as follows:\n",
    "\n"
   ]
  },
  {
   "cell_type": "code",
   "execution_count": null,
   "id": "56",
   "metadata": {
    "tags": [
     "load_the_data.solution"
    ]
   },
   "outputs": [],
   "source": [
    "### Helper Function\n",
    "def do_a_thing():\n",
    "    print('I did a thing!')\n",
    "\n",
    "### Solution - Exercise 10  \n",
    "def load_the_data(data):\n",
    "    do_a_thing()\n",
    "    utils.do_something()\n",
    "    print(f'''{str(data)} loaded!''')"
   ]
  },
  {
   "cell_type": "markdown",
   "id": "57",
   "metadata": {
    "tags": [
     "load_the_data.test_boilerplate"
    ]
   },
   "source": [
    " \n",
    " <!-- Test Cell Boilerplate -->  \n",
    " The test cell below will always pass. Please submit to collect your free points for load_the_data (exercise 10).\n",
    " "
   ]
  },
  {
   "cell_type": "code",
   "execution_count": null,
   "id": "58",
   "metadata": {
    "nbgrader": {
     "grade": true,
     "grade_id": "ex_10",
     "locked": true,
     "points": 1,
     "solution": false
    },
    "tags": [
     "load_the_data.test"
    ]
   },
   "outputs": [],
   "source": [
    "### Test Cell - Exercise 10  \n",
    "\n",
    "\n",
    "print('Passed! Please submit.')"
   ]
  }
 ],
 "metadata": {
  "kernelspec": {
   "display_name": "Python 3.8",
   "language": "python",
   "name": "python38"
  }
 },
 "nbformat": 4,
 "nbformat_minor": 5
}

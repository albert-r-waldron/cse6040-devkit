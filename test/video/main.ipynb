{
 "cells": [
  {
   "cell_type": "markdown",
   "id": "0",
   "metadata": {
    "tags": [
     "main.header"
    ]
   },
   "source": [
    "# `assignment name`: `assignment subtitle`\n",
    "_Version 0.0.1_\n",
    "\n",
    "*All of the header information is important. Please read it..*\n",
    "\n",
    "**Topics number of exercises:** This problem builds on your knowledge of `this, that, and the other`. It has **2** exercises numbered 0 to **1**. There are **total points** available points. However to earn 100% the threshold is **points cap** points. (Therefore once you hit **points cap** points you can stop. There is no extra credit for exceeding this threshold.)\n",
    "\n",
    "**Exercise ordering:** Each exercise builds logically on previous exercises but you may solve them in any order. That is if you can't solve an exercise you can still move on and try the next one. Use this to your advantage as the exercises are **not** necessarily ordered in terms of difficulty. Higher point values generally indicate more difficult exercises. \n",
    "\n",
    "**Demo cells:** Code cells starting with the comment `### Run Me!!!` load results from prior exercises applied to the entire data set and use those to build demo inputs. These must be run for subsequent demos to work properly but they do not affect the test cells. The data loaded in these cells may be rather large (at least in terms of human readability). You are free to print or otherwise use Python to explore them but we may not print them in the starter code.\n",
    "\n",
    "**Debugging your code:** Right before each exercise test cell there is a block of text explaining the variables available to you for debugging. You may use these to test your code and can print/display them as needed (careful when printing large objects you may want to print the head or chunks of rows at a time).\n",
    "\n",
    "**Exercise point breakdown:**\n",
    "\n",
    "\n",
    "- Exercise 0 - : **1** point(s)\n",
    "\n",
    "- Exercise 1 - : **1** point(s)\n",
    "\n",
    "\n",
    "**Final reminders:** \n",
    "\n",
    "- Submit after **every exercise**\n",
    "- Review the generated grade report after you submit to see what errors were returned\n",
    "- Stay calm, skip problems as needed and take short breaks at your leisure"
   ]
  },
  {
   "cell_type": "code",
   "execution_count": null,
   "id": "1",
   "metadata": {
    "tags": [
     "main.global_imports"
    ]
   },
   "outputs": [],
   "source": [
    "### Global imports\n",
    "import dill\n",
    "from cse6040_devkit import plugins, utils\n",
    "import re \n",
    "import pandas as pd\n",
    "import sqlite3 \n",
    "\n"
   ]
  },
  {
   "cell_type": "code",
   "execution_count": null,
   "id": "2",
   "metadata": {
    "tags": [
     "plus_ab.preload_objects"
    ]
   },
   "outputs": [],
   "source": [
    "### Run Me!!!\n",
    "demo_result_plus_ab_TRUE = utils.load_object_from_publicdata('demo_result_plus_ab_TRUE')\n"
   ]
  },
  {
   "cell_type": "markdown",
   "id": "3",
   "metadata": {
    "tags": [
     "plus_ab.prompt"
    ]
   },
   "source": [
    "### Exercise 0: (1 points)\n",
    "**plus_ab**  \n",
    "\n",
    "**Example:** we have defined `plus_ab` as follows:\n",
    "\n",
    "\n",
    "Returns a plus b\n",
    "\n",
    "args:\n",
    "- a, b (int): two numbers to add\n",
    "\n",
    "returns:\n",
    "- int: sum of a and b\n"
   ]
  },
  {
   "cell_type": "markdown",
   "id": "4",
   "metadata": {},
   "source": [
    "This markdown cell will stay"
   ]
  },
  {
   "cell_type": "code",
   "execution_count": null,
   "id": "5",
   "metadata": {
    "tags": [
     "plus_ab.solution"
    ]
   },
   "outputs": [],
   "source": [
    "### Solution - Exercise 0  \n",
    "def plus_ab(a, b):\n",
    "    return a + b\n",
    "\n",
    "### Demo function call\n",
    "demo_result_plus_ab = plus_ab(3, 5)\n",
    "demo_result_plus_ab"
   ]
  },
  {
   "cell_type": "markdown",
   "id": "6",
   "metadata": {
    "tags": [
     "plus_ab.test_boilerplate"
    ]
   },
   "source": [
    " \n",
    "\n",
    "**The demo should display this output.**  \n",
    "\n",
    "8\n",
    "\n",
    "\n",
    " ---\n",
    " <!-- Test Cell Boilerplate -->  \n",
    " The test cell below will always pass. Please submit to collect your free points for plus_ab (exercise 0).\n",
    " "
   ]
  },
  {
   "cell_type": "code",
   "execution_count": null,
   "id": "7",
   "metadata": {
    "nbgrader": {
     "grade": true,
     "grade_id": "ex_0",
     "locked": true,
     "points": 1,
     "solution": false
    },
    "tags": [
     "plus_ab.test"
    ]
   },
   "outputs": [],
   "source": [
    "### Test Cell - Exercise 0  \n",
    "\n",
    "\n",
    "print('Passed! Please submit.')"
   ]
  },
  {
   "cell_type": "markdown",
   "id": "8",
   "metadata": {
    "tags": [
     "sel_star.prompt"
    ]
   },
   "source": [
    "### Exercise 1: (1 points)\n",
    "**sel_star**  \n",
    "\n",
    "**Your task:** define `sel_star_query` as follows:\n",
    "\n",
    "Select all records from the characters table"
   ]
  },
  {
   "cell_type": "code",
   "execution_count": null,
   "id": "9",
   "metadata": {
    "tags": [
     "sel_star.solution"
    ]
   },
   "outputs": [],
   "source": [
    "### Solution - Exercise 1  \n",
    "\n",
    "sel_star_query = '''YOUR QUERY HERE'''\n",
    "### BEGIN SOLUTION\n",
    "sel_star_query = '''select * from characters'''\n",
    "### END SOLUTION\n",
    "\n",
    "### Demo function call\n",
    "with sqlite3.connect('data/star_wars.db') as conn:\n",
    "    demo_result_sel_star = pd.read_sql(sel_star_query, conn)\n",
    "utils.display_df_text_wrap(demo_result_sel_star)"
   ]
  },
  {
   "cell_type": "markdown",
   "id": "10",
   "metadata": {
    "tags": [
     "sel_star.test_boilerplate"
    ]
   },
   "source": [
    " \n",
    "\n",
    "**The demo should display this output.**  \n",
    "\n",
    "|    |   id | name                 | species        | gender   |   height |   weight | hair_color   | eye_color   | skin_color   |   year_born | homeworld    |   year_died | description                                                              |\n",
    "|---:|-----:|:---------------------|:---------------|:---------|---------:|---------:|:-------------|:------------|:-------------|------------:|:-------------|------------:|:-------------------------------------------------------------------------|\n",
    "|  0 |    1 | Luke Skywalker       | Human          | Male     |     1.72 |       77 | Blond        | Blue        | Light        |          19 | Tatooine     |          34 | The main protagonist of the original trilogy.                            |\n",
    "|  1 |    2 | Leia Organa          | Human          | Female   |     1.5  |       49 | Brown        | Brown       | Light        |          19 | Alderaan     |          35 | A leader in the Rebel Alliance and twin sister of Luke Skywalker.        |\n",
    "|  2 |    3 | Darth Vader          | Human          | Male     |     2.02 |      136 | None         | Yellow      | Pale         |          41 | Tatooine     |           4 | The Sith Lord formerly known as Anakin Skywalker.                        |\n",
    "|  3 |    4 | Yoda                 | Yoda's species | Male     |     0.66 |       17 | White        | Brown       | Green        |         896 | Unknown      |           4 | A wise and powerful Jedi Master.                                         |\n",
    "|  4 |    5 | Han Solo             | Human          | Male     |     1.8  |       80 | Brown        | Hazel       | Light        |          29 | Corellia     |          34 | A smuggler turned hero in the Rebel Alliance.                            |\n",
    "|  5 |    6 | Chewbacca            | Wookiee        | Male     |     2.28 |      112 | Brown        | Blue        | Brown        |         200 | Kashyyyk     |         nan | A loyal Wookiee and co-pilot of the Millennium Falcon.                   |\n",
    "|  6 |    7 | Obi-Wan Kenobi       | Human          | Male     |     1.82 |       81 | White        | Blue-gray   | Light        |          57 | Stewjon      |           0 | A Jedi Master who mentored Anakin and Luke Skywalker.                    |\n",
    "|  7 |    8 | Emperor Palpatine    | Human          | Male     |     1.73 |       75 | None         | Yellow      | Pale         |          82 | Naboo        |          35 | The Sith Lord who became Emperor of the galaxy.                          |\n",
    "|  8 |    9 | Anakin Skywalker     | Human          | Male     |     1.88 |       84 | Blond        | Blue        | Light        |          41 | Tatooine     |           4 | A Jedi Knight who fell to the dark side and became Darth Vader.          |\n",
    "|  9 |   10 | Padmé Amidala        | Human          | Female   |     1.65 |       45 | Brown        | Brown       | Light        |          46 | Naboo        |          19 | The queen-turned-senator of Naboo and wife of Anakin Skywalker.          |\n",
    "| 10 |   11 | Qui-Gon Jinn         | Human          | Male     |     1.93 |       89 | Brown        | Blue        | Light        |          92 | Coruscant    |          32 | A Jedi Master who discovered Anakin Skywalker.                           |\n",
    "| 11 |   12 | Mace Windu           | Human          | Male     |     1.88 |       84 | None         | Brown       | Dark         |          72 | Haruun Kal   |          19 | A Jedi Master and member of the Jedi High Council.                       |\n",
    "| 12 |   13 | Jar Jar Binks        | Gungan         | Male     |     1.96 |       66 | None         | Orange      | Orange       |          52 | Naboo        |         nan | A clumsy Gungan who became a representative in the Galactic Senate.      |\n",
    "| 13 |   14 | Count Dooku          | Human          | Male     |     1.93 |       80 | White        | Brown       | Light        |         102 | Serenno      |          19 | A former Jedi who became Darth Tyranus, a Sith Lord.                     |\n",
    "| 14 |   15 | Rey                  | Human          | Female   |     1.7  |       54 | Brown        | Hazel       | Light        |          15 | Jakku        |         nan | The main protagonist of the sequel trilogy.                              |\n",
    "| 15 |   16 | Finn                 | Human          | Male     |     1.78 |       73 | Black        | Brown       | Dark         |          11 | Unknown      |         nan | A former stormtrooper who joins the Resistance.                          |\n",
    "| 16 |   17 | Poe Dameron          | Human          | Male     |     1.76 |       79 | Brown        | Brown       | Light        |           2 | Yavin 4      |         nan | A skilled pilot and commander in the Resistance.                         |\n",
    "| 17 |   18 | Kylo Ren             | Human          | Male     |     1.89 |       89 | Black        | Brown       | Light        |           5 | Chandrila    |          35 | A dark side user formerly known as Ben Solo.                             |\n",
    "| 18 |   19 | BB-8                 | Droid          | None     |   nan    |      nan | None         | None        | White        |         nan | None         |         nan | A spherical astromech droid.                                             |\n",
    "| 19 |   20 | C-3PO                | Droid          | None     |     1.71 |      nan | None         | None        | Gold         |         112 | Tatooine     |         nan | A protocol droid fluent in over six million forms of communication.      |\n",
    "| 20 |   21 | R2-D2                | Droid          | None     |     0.96 |      nan | None         | None        | White/Blue   |          33 | Naboo        |         nan | An astromech droid known for his bravery and resourcefulness.            |\n",
    "| 21 |   22 | Lando Calrissian     | Human          | Male     |     1.77 |       79 | Black        | Brown       | Dark         |          31 | Socorro      |         nan | A charming gambler and ally of the Rebel Alliance.                       |\n",
    "| 22 |   23 | Boba Fett            | Human          | Male     |     1.83 |       78 | Black        | Brown       | Light        |          32 | Kamino       |         nan | A notorious bounty hunter and clone of Jango Fett.                       |\n",
    "| 23 |   24 | Jango Fett           | Human          | Male     |     1.83 |       79 | Black        | Brown       | Light        |          66 | Concord Dawn |          22 | A skilled bounty hunter and template for the clone army.                 |\n",
    "| 24 |   25 | General Hux          | Human          | Male     |     1.85 |       75 | Red          | Blue        | Light        |           0 | Arkanis      |          35 | A general in the First Order.                                            |\n",
    "| 25 |   26 | Rose Tico            | Human          | Female   |     1.68 |       57 | Black        | Brown       | Light        |          11 | Hays Minor   |         nan | A mechanic in the Resistance.                                            |\n",
    "| 26 |   27 | Supreme Leader Snoke | Unknown        | Male     |     2.18 |      100 | None         | Blue        | Pale         |          50 | Unknown      |          34 | The Supreme Leader of the First Order.                                   |\n",
    "| 27 |   28 | Maz Kanata           | Unknown        | Female   |     1.24 |       31 | None         | Brown       | Orange       |         973 | Takodana     |         nan | A wise and ancient being who runs a tavern on Takodana.                  |\n",
    "| 28 |   29 | Aayla Secura         | Twi'lek        | Female   |     1.78 |       55 | Blue         | Hazel       | Blue         |          48 | Ryloth       |          19 | A Jedi Knight during the Clone Wars.                                     |\n",
    "| 29 |   30 | Admiral Ackbar       | Mon Calamari   | Male     |     1.8  |       72 | None         | Orange      | Red          |          52 | Mon Cala     |          35 | A respected admiral in the Rebel Alliance.                               |\n",
    "| 30 |   31 | Admiral Piett        | Human          | Male     |     1.8  |       75 | Brown        | Blue        | Light        |          59 | Axxila       |           4 | An Imperial officer serving under Darth Vader.                           |\n",
    "| 31 |   32 | Bail Organa          | Human          | Male     |     1.91 |       86 | Black        | Brown       | Light        |          67 | Alderaan     |           0 | A senator and adoptive father of Leia Organa.                            |\n",
    "| 32 |   33 | Barriss Offee        | Mirialan       | Female   |     1.66 |       50 | Black        | Blue        | Green        |          40 | Mirial       |          19 | A Jedi Padawan during the Clone Wars.                                    |\n",
    "| 33 |   34 | Biggs Darklighter    | Human          | Male     |     1.79 |       79 | Black        | Brown       | Light        |          24 | Tatooine     |           0 | A Rebel pilot and friend of Luke Skywalker.                              |\n",
    "| 34 |   35 | Bib Fortuna          | Twi'lek        | Male     |     1.93 |       65 | None         | Red         | Pale         |          60 | Ryloth       |          35 | A majordomo for Jabba the Hutt.                                          |\n",
    "| 35 |   36 | Bossk                | Trandoshan     | Male     |     1.9  |      113 | None         | Red         | Green        |          53 | Trandosha    |         nan | A feared bounty hunter.                                                  |\n",
    "| 36 |   37 | Captain Phasma       | Human          | Female   |     2    |       75 | Blonde       | Blue        | Light        |          15 | Parnassos    |          35 | A high-ranking officer in the First Order.                               |\n",
    "| 37 |   38 | Chirrut Îmwe         | Human          | Male     |     1.75 |       70 | Black        | Brown       | Light        |          52 | Jedha        |           0 | A blind warrior monk and follower of the Force.                          |\n",
    "| 38 |   39 | Dengar               | Human          | Male     |     1.83 |       80 | Brown        | Brown       | Light        |          32 | Corellia     |         nan | A bounty hunter with a grudge against Han Solo.                          |\n",
    "| 39 |   40 | Greedo               | Rodian         | Male     |     1.73 |       70 | None         | Black       | Green        |          44 | Rodia        |           0 | A bounty hunter killed by Han Solo.                                      |\n",
    "| 40 |   41 | Hera Syndulla        | Twi'lek        | Female   |     1.78 |       55 | Green        | Blue        | Green        |          29 | Ryloth       |         nan | A skilled pilot and leader of the Ghost crew.                            |\n",
    "| 41 |   42 | Jabba the Hutt       | Hutt           | Male     |     3.9  |     1358 | None         | Orange      | Green        |         600 | Nal Hutta    |           4 | A notorious crime lord.                                                  |\n",
    "| 42 |   43 | Kanan Jarrus         | Human          | Male     |     1.91 |       86 | Brown        | Blue        | Light        |          32 | Coruscant    |           2 | A Jedi Knight and member of the Ghost crew.                              |\n",
    "| 43 |   44 | Kit Fisto            | Nautolan       | Male     |     1.96 |       87 | None         | Black       | Green        |          48 | Glee Anselm  |          19 | A Jedi Master known for his underwater combat skills.                    |\n",
    "| 44 |   45 | Lobot                | Human          | Male     |     1.75 |       75 | None         | Blue        | Light        |          47 | Bespin       |         nan | A cyborg aide to Lando Calrissian.                                       |\n",
    "| 45 |   46 | Mon Mothma           | Human          | Female   |     1.7  |       55 | Red          | Blue        | Light        |          48 | Chandrila    |         nan | A leader in the Rebel Alliance.                                          |\n",
    "| 46 |   47 | Nien Nunb            | Sullustan      | Male     |     1.6  |       70 | None         | Black       | Light        |          43 | Sullust      |         nan | A pilot who co-piloted the Millennium Falcon during the Battle of Endor. |\n",
    "| 47 |   48 | Plo Koon             | Kel Dor        | Male     |     1.88 |       80 | None         | Black       | Orange       |          44 | Dorin        |          19 | A Jedi Master known for his unique mask.                                 |\n",
    "| 48 |   49 | Saw Gerrera          | Human          | Male     |     1.78 |       75 | Black        | Brown       | Dark         |          48 | Onderon      |           0 | A militant leader in the Rebel Alliance.                                 |\n",
    "| 49 |   50 | Sebulba              | Dug            | Male     |     1.12 |       40 | None         | Red         | Brown        |          32 | Malastare    |         nan | A pod racer with a fierce reputation.                                    |\n",
    "| 50 |   51 | Shaak Ti             | Togruta        | Female   |     1.87 |       68 | None         | Black       | Red          |          43 | Shili        |         nan | A Jedi Master and member of the Jedi High Council.                       |\n",
    "| 51 |   52 | Shmi Skywalker       | Human          | Female   |     1.65 |       55 | Brown        | Brown       | Light        |          72 | Tatooine     |          22 | The mother of Anakin Skywalker.                                          |\n",
    "| 52 |   53 | Wedge Antilles       | Human          | Male     |     1.79 |       80 | Brown        | Brown       | Light        |          21 | Corellia     |         nan | A skilled Rebel pilot.                                                   |\n",
    "| 53 |   54 | Wicket W. Warrick    | Ewok           | Male     |     1    |       20 | Brown        | Brown       | Brown        |          23 | Endor        |         nan | An Ewok who helped the Rebel Alliance on Endor.                          |\n",
    "| 54 |   55 | Zam Wesell           | Clawdite       | Female   |     1.78 |       60 | Brown        | Yellow      | Green        |          32 | Zolan        |          22 | A shape-shifting bounty hunter.                                          |\n",
    "| 55 |   56 | Ahsoka Tano          | Togruta        | Female   |     1.88 |       55 | None         | Blue        | Orange       |          36 | Shili        |         nan | A former Jedi Padawan of Anakin Skywalker.                               |\n",
    "| 56 |   57 | Asajj Ventress       | Dathomirian    | Female   |     1.7  |       55 | None         | Blue        | Pale         |          57 | Dathomir     |          19 | A former Sith apprentice turned bounty hunter.                           |\n",
    "| 57 |   58 | Cad Bane             | Duros          | Male     |     1.85 |       75 | None         | Red         | Blue         |          62 | Duro         |         nan | A feared bounty hunter.                                                  |\n",
    "| 58 |   59 | Captain Rex          | Human          | Male     |     1.83 |       80 | Blond        | Blue        | Light        |          32 | Kamino       |         nan | A clone trooper captain who served under Anakin Skywalker.               |\n",
    "| 59 |   60 | Savage Opress        | Dathomirian    | Male     |     2.18 |      100 | None         | Yellow      | Pale         |          49 | Dathomir     |          19 | The brother of Darth Maul and a powerful Sith apprentice.                |\n",
    "| 60 |   61 | Hondo Ohnaka         | Weequay        | Male     |     1.75 |       70 | Black        | Brown       | Brown        |          45 | Sriluur      |         nan | A pirate and smuggler.                                                   |\n",
    "| 61 |   62 | Pong Krell           | Besalisk       | Male     |     2.5  |      300 | None         | Yellow      | Green        |          52 | Ojom         |          19 | A Jedi Master who fell to the dark side.                                 |\n",
    "| 62 |   63 | Mother Talzin        | Dathomirian    | Female   |     1.7  |       55 | Black        | Green       | Pale         |         100 | Dathomir     |          19 | A powerful witch and leader of the Nightsisters.                         |\n",
    "| 63 |   64 | Ezra Bridger         | Human          | Male     |     1.75 |       70 | Blue         | Black       | Light        |          18 | Lothal       |         nan | A Jedi Padawan and member of the Ghost crew.                             |\n",
    "| 64 |   65 | Sabine Wren          | Human          | Female   |     1.65 |       50 | Varied       | Brown       | Light        |          21 | Mandalore    |         nan | A Mandalorian artist and warrior.                                        |\n",
    "| 65 |   66 | Kallus               | Human          | Male     |     1.88 |       85 | Blond        | Blue        | Light        |          40 | Coruscant    |         nan | An Imperial agent who defected to the Rebel Alliance.                    |\n",
    "| 66 |   67 | Grand Admiral Thrawn | Chiss          | Male     |     1.95 |       85 | Blue-Black   | Red         | Blue         |          50 | Csilla       |         nan | A brilliant tactician and leader in the Imperial Navy.                   |\n",
    "| 67 |   68 | Jyn Erso             | Human          | Female   |     1.7  |       60 | Brown        | Green       | Light        |          22 | Vallt        |           0 | The protagonist of Rogue One and a member of the Rebel Alliance.         |\n",
    "| 68 |   69 | Cassian Andor        | Human          | Male     |     1.84 |       75 | Brown        | Brown       | Light        |          26 | Fest         |           0 | A Rebel intelligence officer.                                            |\n",
    "| 69 |   70 | Orson Krennic        | Human          | Male     |     1.85 |       80 | White        | Blue        | Light        |          51 | Lexrul       |           0 | The director of the Empire's Advanced Weapons Research division.         |\n",
    "| 70 |   71 | Bodhi Rook           | Human          | Male     |     1.8  |       75 | Black        | Brown       | Dark         |          25 | Jedha        |           0 | A former Imperial pilot who defected to the Rebel Alliance.              |\n",
    "| 71 |   72 | Chirrut Îmwe         | Human          | Male     |     1.75 |       70 | Black        | Brown       | Light        |          52 | Jedha        |           0 | A blind warrior monk and follower of the Force.                          |\n",
    "| 72 |   73 | Baze Malbus          | Human          | Male     |     1.85 |       95 | Black        | Brown       | Light        |          52 | Jedha        |           0 | A former Guardian of the Whills and companion to Chirrut Îmwe.           |\n",
    "| 73 |   74 | Galen Erso           | Human          | Male     |     1.83 |       75 | Brown        | Brown       | Light        |          54 | Grange       |           0 | A scientist and father of Jyn Erso.                                      |\n",
    "| 74 |   75 | Saw Gerrera          | Human          | Male     |     1.78 |       75 | Black        | Brown       | Dark         |          48 | Onderon      |           0 | A militant leader in the Rebel Alliance.                                 |\n",
    "| 75 |   76 | Hera Syndulla        | Twi'lek        | Female   |     1.78 |       55 | Green        | Blue        | Green        |          29 | Ryloth       |         nan | A skilled pilot and leader of the Ghost crew.                            |\n",
    "| 76 |   77 | Kanan Jarrus         | Human          | Male     |     1.91 |       86 | Brown        | Blue        | Light        |          32 | Coruscant    |           2 | A Jedi Knight and member of the Ghost crew.                              |\n",
    "| 77 |   78 | Ezra Bridger         | Human          | Male     |     1.75 |       70 | Blue         | Black       | Light        |          18 | Lothal       |         nan | A Jedi Padawan and member of the Ghost crew.                             |\n",
    "| 78 |   79 | Sabine Wren          | Human          | Female   |     1.65 |       50 | Varied       | Brown       | Light        |          21 | Mandalore    |         nan | A Mandalorian artist and warrior.                                        |\n",
    "| 79 |   80 | Grand Admiral Thrawn | Chiss          | Male     |     1.95 |       85 | Blue-Black   | Red         | Blue         |          50 | Csilla       |         nan | A brilliant tactician and leader in the Imperial Navy.                   |\n",
    "| 80 |   81 | Jyn Erso             | Human          | Female   |     1.7  |       60 | Brown        | Green       | Light        |          22 | Vallt        |           0 | The protagonist of Rogue One and a member of the Rebel Alliance.         |\n",
    "| 81 |   82 | Cassian Andor        | Human          | Male     |     1.84 |       75 | Brown        | Brown       | Light        |          26 | Fest         |           0 | A Rebel intelligence officer.                                            |\n",
    "| 82 |   83 | Orson Krennic        | Human          | Male     |     1.85 |       80 | White        | Blue        | Light        |          51 | Lexrul       |           0 | The director of the Empire's Advanced Weapons Research division.         |\n",
    "| 83 |   84 | Bodhi Rook           | Human          | Male     |     1.8  |       75 | Black        | Brown       | Dark         |          25 | Jedha        |           0 | A former Imperial pilot who defected to the Rebel Alliance.              |\n",
    "| 84 |   85 | Chirrut Îmwe         | Human          | Male     |     1.75 |       70 | Black        | Brown       | Light        |          52 | Jedha        |           0 | A blind warrior monk and follower of the Force.                          |\n",
    "| 85 |   86 | Baze Malbus          | Human          | Male     |     1.85 |       95 | Black        | Brown       | Light        |          52 | Jedha        |           0 | A former Guardian of the Whills and companion to Chirrut Îmwe.           |\n",
    "| 86 |   87 | Galen Erso           | Human          | Male     |     1.83 |       75 | Brown        | Brown       | Light        |          54 | Grange       |           0 | A scientist and father of Jyn Erso.                                      |\n",
    "| 87 |   88 | Saw Gerrera          | Human          | Male     |     1.78 |       75 | Black        | Brown       | Dark         |          48 | Onderon      |           0 | A militant leader in the Rebel Alliance.                                 |\n",
    "| 88 |   89 | Admiral Raddus       | Mon Calamari   | Male     |     1.8  |       72 | None         | Orange      | Blue         |          50 | Mon Cala     |           0 | A respected admiral in the Rebel Alliance.                               |\n",
    "| 89 |   90 | Dryden Vos           | Human          | Male     |     1.85 |       80 | Blond        | Blue        | Light        |          35 | Corellia     |          10 | A crime lord in the Crimson Dawn syndicate.                              |\n",
    "| 90 |   91 | Qi'ra                | Human          | Female   |     1.7  |       50 | Brown        | Brown       | Light        |          21 | Corellia     |         nan | A member of the Crimson Dawn syndicate.                                  |\n",
    "| 91 |   92 | Enfys Nest           | Human          | Female   |     1.68 |       55 | Red          | Brown       | Light        |          19 | Unknown      |         nan | A rebel and leader of the Cloud-Riders.                                  |\n",
    "| 92 |   93 | L3-37                | Droid          | None     |     1.8  |      nan | None         | Green       | Gray         |         nan | Unknown      |          10 | A self-built piloting droid.                                             |\n",
    "| 93 |   94 | Beckett              | Human          | Male     |     1.85 |       80 | Brown        | Blue        | Light        |          50 | Glee Anselm  |          10 | A criminal and mentor to Han Solo.                                       |\n",
    "| 94 |   95 | Val                  | Human          | Female   |     1.75 |       55 | Black        | Brown       | Dark         |          30 | Unknown      |          10 | A member of Beckett's crew.                                              |\n",
    "| 95 |   96 | Rio Durant           | Ardennian      | Male     |     1.4  |       40 | None         | Black       | Blue         |          40 | Ardennia     |          10 | A four-armed pilot in Beckett's crew.                                    |\n",
    "\n",
    "\n",
    " ---\n",
    " <!-- Test Cell Boilerplate -->  \n",
    "The cell below will test your solution for sel_star (exercise 1). The testing variables will be available for debugging under the following names in a dictionary format.  \n",
    "- `input_vars` - Input variables for your solution.   \n",
    "- `original_input_vars` - Copy of input variables from prior to running your solution. Any `key:value` pair in `original_input_vars` should also exist in `input_vars` - otherwise the inputs were modified by your solution.  \n",
    "- `returned_output_vars` - Outputs returned by your solution.  \n",
    "- `true_output_vars` - The expected output. This _should_ \"match\" `returned_output_vars` based on the question requirements - otherwise, your solution is not returning the correct output. \n"
   ]
  },
  {
   "cell_type": "code",
   "execution_count": null,
   "id": "11",
   "metadata": {
    "nbgrader": {
     "grade": true,
     "grade_id": "ex_1",
     "locked": true,
     "points": 1,
     "solution": false
    },
    "tags": [
     "sel_star.test"
    ]
   },
   "outputs": [],
   "source": [
    "### Test Cell - Exercise 1  \n",
    "\n",
    "# Load testing utility\n",
    "with open('resource/asnlib/publicdata/execute_tests', 'rb') as f:\n",
    "    execute_tests = dill.load(f)\n",
    "\n",
    "# Execute test\n",
    "passed, test_case_vars, e = execute_tests(func=plugins.sql_executor(sel_star_query),\n",
    "              ex_name='sel_star',\n",
    "              key=b'5xdJZA9I-PUYZbH-nCtCtWKjMSIxnp5YrIi2_OVibbU=', \n",
    "              n_iter=100)\n",
    "# Assign test case vars for debugging\n",
    "input_vars, original_input_vars, returned_output_vars, true_output_vars = test_case_vars\n",
    "if e: raise e\n",
    "assert passed, 'The solution to sel_star did not pass the test.'\n",
    "\n",
    "### BEGIN HIDDEN TESTS\n",
    "passed, test_case_vars, e = execute_tests(func=plugins.sql_executor(sel_star_query),\n",
    "              ex_name='sel_star',\n",
    "              key=b'QTZWMUuz98lEy0Wa9H2VTM4sde2Xp1uccnMALnA3Pfc=', \n",
    "              n_iter=1,\n",
    "              hidden=True)\n",
    "input_vars, original_input_vars, returned_output_vars, true_output_vars = test_case_vars\n",
    "if e: raise e\n",
    "assert passed, 'The solution to sel_star did not pass the test.'\n",
    "### END HIDDEN TESTS\n",
    "print('Passed! Please submit.')"
   ]
  },
  {
   "cell_type": "code",
   "execution_count": null,
   "id": "12",
   "metadata": {
    "tags": [
     "sel_star.preload_objects"
    ]
   },
   "outputs": [],
   "source": [
    "### Run Me!!!\n",
    "demo_result_sel_star_TRUE = utils.load_object_from_publicdata('demo_result_sel_star_TRUE')\n"
   ]
  }
 ],
 "metadata": {
  "kernelspec": {
   "display_name": "Python 3.8",
   "language": "python",
   "name": "python38"
  }
 },
 "nbformat": 4,
 "nbformat_minor": 5
}

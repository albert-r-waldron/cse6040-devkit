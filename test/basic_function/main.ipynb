{
 "cells": [
  {
   "cell_type": "code",
   "execution_count": null,
   "id": "0",
   "metadata": {
    "tags": [
     "main.global_imports"
    ]
   },
   "outputs": [],
   "source": [
    "### Global imports\n",
    "from time import time\n",
    "from cse6040_devkit import plugins, utils\n",
    "\n",
    "utils.add_from_file('convert_to_str', plugins)\n",
    "utils.add_from_file('foo', utils)\n",
    "\n",
    "asn_start_time = time()"
   ]
  },
  {
   "cell_type": "markdown",
   "id": "1",
   "metadata": {
    "tags": [
     "fizzbuzz.prompt"
    ]
   },
   "source": [
    "### Exercise 0: (0 points)\n",
    "**fizzbuzz**  \n",
    "\n",
    "**Your task:** define `fizzbuzz_soln` as follows:\n",
    "\n",
    "`fizzbuzz_soln` solves the classic \"fizzbuzz\" problem for a single integer. \n",
    "\n",
    "**Inputs**:\n",
    "- `i` (int): Any integer\n",
    "\n",
    "**Returns**: one of the following depending on whether 3, 5, both or neither divide evenly into `i`\n",
    "- `'Fizz'`     if i is divisible by 3                Example: 9\n",
    "- `'Buzz'`     if i is divisible by 5                Example: 35\n",
    "- `'FizzBuzz'` if i is divisible by both 3 and 5     Example: 45\n",
    "- `i`          if i is divisible by neither 3 nor 5  Example: 22\n",
    "\n",
    "---\n",
    "We have defined a **helper function**, `x_divides_y` as follows:  \n",
    "\n",
    "`x_divides_y` evaluates whether one integer (`x`) divides evenly into another integer (`y`).\n"
   ]
  },
  {
   "cell_type": "code",
   "execution_count": null,
   "id": "2",
   "metadata": {
    "tags": [
     "fizzbuzz.solution"
    ]
   },
   "outputs": [],
   "source": [
    "### Helper Function\n",
    "def x_divides_y(x: int, y: int):\n",
    "    return y%x == 0\n",
    "\n",
    "### Solution - Exercise 0  \n",
    "def fizzbuzz_soln(i: int):\n",
    "    ### BEGIN SOLUTION\n",
    "    return (\"Fizz\"*x_divides_y(3, i)+\"Buzz\"*x_divides_y(5, i)) or i\n",
    "    ### END SOLUTION\n",
    "\n",
    "### Demo function call\n",
    "for i in [12, 10, 15, 16]:\n",
    "    print(f'fizzbuzz_soln({i}) -> {fizzbuzz_soln(i)}')"
   ]
  },
  {
   "cell_type": "markdown",
   "id": "3",
   "metadata": {
    "tags": [
     "fizzbuzz.test_boilerplate"
    ]
   },
   "source": [
    " The demo function calls should display this output  \n",
    "\n",
    "```\n",
    "fizzbuzz_soln(12) -> Fizz\n",
    "fizzbuzz_soln(10) -> Buzz\n",
    "fizzbuzz_soln(15) -> FizzBuzz\n",
    "fizzbuzz_soln(16) -> 16\n",
    "```\n",
    "\n",
    " ---\n",
    " <!-- Test Cell Boilerplate -->  \n",
    "The cell below will test your solution for fizzbuzz (exercise 0). The testing variables will be available for debugging under the following names in a dictionary format.  \n",
    "- `input_vars` - Input variables for your solution.   \n",
    "- `original_input_vars` - Copy of input variables from prior to running your solution. Any `key:value` pair in `original_input_vars` should also exist in `input_vars` - otherwise the inputs were modified by your solution.  \n",
    "- `returned_output_vars` - Outputs returned by your solution.  \n",
    "- `true_output_vars` - The expected output. This _should_ \"match\" `returned_output_vars` based on the question requirements - otherwise, your solution is not returning the correct output. \n"
   ]
  },
  {
   "cell_type": "code",
   "execution_count": null,
   "id": "4",
   "metadata": {
    "nbgrader": {
     "grade": true,
     "grade_id": "ex_0",
     "locked": true,
     "points": 0,
     "solution": false
    },
    "tags": [
     "fizzbuzz.test"
    ]
   },
   "outputs": [],
   "source": [
    "### Test Cell - Exercise 0  \n",
    "ex0_start_time = time()\n",
    "from cse6040_devkit.tester_fw.testers import Tester\n",
    "from yaml import safe_load\n",
    "\n",
    "with open('resource/asnlib/publicdata/assignment_config.yaml') as f:\n",
    "    ex_conf = safe_load(f)['exercises']['fizzbuzz']['config']\n",
    "\n",
    "\n",
    "ex_conf['func'] = plugins.convert_to_str(fizzbuzz_soln)\n",
    "\n",
    "tester = Tester(ex_conf, key=b'4HgA8ETesk813yt8qW7rmVxzJ8dnbTG6t3sPRS5XZxw=', path='resource/asnlib/publicdata/')\n",
    "for _ in range(100):\n",
    "    try:\n",
    "        tester.run_test()\n",
    "        (input_vars, original_input_vars, returned_output_vars, true_output_vars) = tester.get_test_vars()\n",
    "    except:\n",
    "        (input_vars, original_input_vars, returned_output_vars, true_output_vars) = tester.get_test_vars()\n",
    "        raise\n",
    "\n",
    "print('Passed! Please submit.')\n",
    "ex0_end_time = time()\n",
    "ex0_duration = ex0_end_time - ex0_start_time\n",
    "total_duration = ex0_end_time - asn_start_time\n",
    "print(f'Exercise 0 ran for {round(ex0_duration, 2) } seconds') "
   ]
  },
  {
   "cell_type": "code",
   "execution_count": null,
   "id": "5",
   "metadata": {
    "tags": [
     "freebie.preload_objects"
    ]
   },
   "outputs": [],
   "source": [
    "### Run Me!!!\n",
    "free_data = utils.load_object_from_publicdata('free_data')\n"
   ]
  },
  {
   "cell_type": "markdown",
   "id": "6",
   "metadata": {
    "tags": [
     "freebie.prompt"
    ]
   },
   "source": [
    "### Exercise 1: (1 points)\n",
    "**freebie**  \n",
    "\n",
    "**This is a free exercise!**  \n",
    "\n",
    "Please run the test cell below to collect your FREE point(s)"
   ]
  },
  {
   "cell_type": "code",
   "execution_count": null,
   "id": "7",
   "metadata": {
    "nbgrader": {
     "grade": true,
     "grade_id": "ex_1",
     "locked": true,
     "points": 1,
     "solution": false
    },
    "tags": [
     "freebie.test"
    ]
   },
   "outputs": [],
   "source": [
    "### Test Cell - Exercise 1  \n",
    "ex1_start_time = time()\n",
    "\n",
    "print('Passed! Please submit.')\n",
    "ex1_end_time = time()\n",
    "ex1_duration = ex1_end_time - ex1_start_time\n",
    "total_duration = ex1_end_time - asn_start_time\n",
    "print(f'Exercise 1 ran for {round(ex1_duration, 2) } seconds') "
   ]
  }
 ],
 "metadata": {},
 "nbformat": 4,
 "nbformat_minor": 5
}

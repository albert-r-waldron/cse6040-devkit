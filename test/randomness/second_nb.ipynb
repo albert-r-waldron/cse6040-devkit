{
 "cells": [
  {
   "cell_type": "markdown",
   "id": "0",
   "metadata": {
    "tags": [
     "main.header"
    ]
   },
   "source": [
    "# `assignment name`: `assignment subtitle`\n",
    "_Version 0.0.1_\n",
    "\n",
    "*All of the header information is important. Please read it..*\n",
    "\n",
    "**Topics number of exercises:** This problem builds on your knowledge of `this, that, and the other`. It has **1** exercises numbered 0 to **0**. There are **total points** available points. However to earn 100% the threshold is **points cap** points. (Therefore once you hit **points cap** points you can stop. There is no extra credit for exceeding this threshold.)\n",
    "\n",
    "**Exercise ordering:** Each exercise builds logically on previous exercises but you may solve them in any order. That is if you can't solve an exercise you can still move on and try the next one. Use this to your advantage as the exercises are **not** necessarily ordered in terms of difficulty. Higher point values generally indicate more difficult exercises. \n",
    "\n",
    "**Demo cells:** Code cells starting with the comment `### Run Me!!!` load results from prior exercises applied to the entire data set and use those to build demo inputs. These must be run for subsequent demos to work properly but they do not affect the test cells. The data loaded in these cells may be rather large (at least in terms of human readability). You are free to print or otherwise use Python to explore them but we may not print them in the starter code.\n",
    "\n",
    "**Debugging your code:** Right before each exercise test cell there is a block of text explaining the variables available to you for debugging. You may use these to test your code and can print/display them as needed (careful when printing large objects you may want to print the head or chunks of rows at a time).\n",
    "\n",
    "**Exercise point breakdown:**\n",
    "\n",
    "\n",
    "- Exercise 0 - : **1** point(s)\n",
    "\n",
    "\n",
    "**Final reminders:** \n",
    "\n",
    "- Submit after **every exercise**\n",
    "- Review the generated grade report after you submit to see what errors were returned\n",
    "- Stay calm, skip problems as needed and take short breaks at your leisure"
   ]
  },
  {
   "cell_type": "code",
   "execution_count": null,
   "id": "1",
   "metadata": {
    "tags": [
     "main.global_imports"
    ]
   },
   "outputs": [],
   "source": [
    "### Global imports\n",
    "from time import time\n",
    "from cse6040_devkit import plugins, utils\n",
    "\n",
    "\n",
    "asn_start_time = time()"
   ]
  },
  {
   "cell_type": "markdown",
   "id": "2",
   "metadata": {
    "tags": [
     "ex_0_.prompt"
    ]
   },
   "source": [
    "### Exercise 0: (1 points)\n",
    "**ex_0_**  \n",
    "\n",
    "**This is a free exercise!**  \n",
    "\n",
    "Please run the test cell below to collect your FREE point(s)"
   ]
  },
  {
   "cell_type": "code",
   "execution_count": null,
   "id": "3",
   "metadata": {
    "nbgrader": {
     "grade": true,
     "grade_id": "ex_0",
     "locked": true,
     "points": 1,
     "solution": false
    },
    "tags": [
     "ex_0_.test"
    ]
   },
   "outputs": [],
   "source": [
    "### Test Cell - Exercise 0  \n",
    "ex0_start_time = time()\n",
    "from cse6040_devkit.tester_fw.testers import Tester\n",
    "from yaml import safe_load\n",
    "\n",
    "with open('resource/asnlib/publicdata/asn_config.yaml') as f:\n",
    "    ex_conf = safe_load(f)['exercises']['ex_0_']['config']\n",
    "\n",
    "\n",
    "ex_conf['func'] = two_x_plus_three\n",
    "\n",
    "tester = Tester(ex_conf, key=b'nSxTLNwoyIGqVa59YYADjTE-0fZ2l0tI6HgtzCg5WjI=', path='resource/asnlib/publicdata/')\n",
    "for _ in range(100):\n",
    "    try:\n",
    "        tester.run_test()\n",
    "        (input_vars, original_input_vars, returned_output_vars, true_output_vars) = tester.get_test_vars()\n",
    "    except:\n",
    "        (input_vars, original_input_vars, returned_output_vars, true_output_vars) = tester.get_test_vars()\n",
    "        raise\n",
    "\n",
    "### BEGIN HIDDEN TESTS\n",
    "tester = Tester(ex_conf, key=b'FD9L8ILWSUj4Cg4fBFsU31Ca8u3MEdHnVrBJjIKV9DM=', path='resource/asnlib/publicdata/encrypted/')\n",
    "for _ in range(1):\n",
    "    try:\n",
    "        tester.run_test()\n",
    "        (input_vars, original_input_vars, returned_output_vars, true_output_vars) = tester.get_test_vars()\n",
    "    except:\n",
    "        (input_vars, original_input_vars, returned_output_vars, true_output_vars) = tester.get_test_vars()\n",
    "        raise\n",
    "### END HIDDEN TESTS\n",
    "\n",
    "print('Passed! Please submit.')\n",
    "ex0_end_time = time()\n",
    "ex0_duration = ex0_end_time - ex0_start_time\n",
    "total_duration = ex0_end_time - asn_start_time\n",
    "print(f'Exercise 0 ran for {round(ex0_duration, 2) } seconds') "
   ]
  }
 ],
 "metadata": {},
 "nbformat": 4,
 "nbformat_minor": 5
}

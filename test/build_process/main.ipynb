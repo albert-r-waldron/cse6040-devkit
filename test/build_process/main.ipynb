{
 "cells": [
  {
   "cell_type": "markdown",
   "id": "0",
   "metadata": {
    "tags": [
     "main.header"
    ]
   },
   "source": [
    "# `assignment name`: `assignment subtitle`\n",
    "_Version 0.0.1_\n",
    "\n",
    "*All of the header information is important. Please read it..*\n",
    "\n",
    "**Topics number of exercises:** This problem builds on your knowledge of `this, that, and the other`. It has **1** exercises numbered 0 to **0**. There are **total points** available points. However to earn 100% the threshold is **points cap** points. (Therefore once you hit **points cap** points you can stop. There is no extra credit for exceeding this threshold.)\n",
    "\n",
    "**Exercise ordering:** Each exercise builds logically on previous exercises but you may solve them in any order. That is if you can't solve an exercise you can still move on and try the next one. Use this to your advantage as the exercises are **not** necessarily ordered in terms of difficulty. Higher point values generally indicate more difficult exercises. \n",
    "\n",
    "**Demo cells:** Code cells starting with the comment `### Run Me!!!` load results from prior exercises applied to the entire data set and use those to build demo inputs. These must be run for subsequent demos to work properly but they do not affect the test cells. The data loaded in these cells may be rather large (at least in terms of human readability). You are free to print or otherwise use Python to explore them but we may not print them in the starter code.\n",
    "\n",
    "**Debugging your code:** Right before each exercise test cell there is a block of text explaining the variables available to you for debugging. You may use these to test your code and can print/display them as needed (careful when printing large objects you may want to print the head or chunks of rows at a time).\n",
    "\n",
    "**Exercise point breakdown:**\n",
    "\n",
    "\n",
    "- Exercise 0 - : **1** point(s)\n",
    "\n",
    "\n",
    "**Final reminders:** \n",
    "\n",
    "- Submit after **every exercise**\n",
    "- Review the generated grade report after you submit to see what errors were returned\n",
    "- Stay calm, skip problems as needed and take short breaks at your leisure"
   ]
  },
  {
   "cell_type": "code",
   "execution_count": 1,
   "id": "1",
   "metadata": {
    "tags": [
     "main.global_imports"
    ]
   },
   "outputs": [],
   "source": [
    "### Global imports\n",
    "from time import time\n",
    "from cse6040_devkit import plugins, utils\n",
    "\n",
    "\n",
    "asn_start_time = time()"
   ]
  },
  {
   "cell_type": "markdown",
   "id": "2",
   "metadata": {
    "tags": [
     "linear_function.prompt"
    ]
   },
   "source": [
    "### Exercise 0: (1 points)\n",
    "**linear_function**  \n",
    "\n",
    "**Your task:** define `two_x_plus_three` as follows:\n",
    "\n",
    "This function is an implementation of the linear function $f(x) = 2x + 3$.\n",
    "\n",
    "Inputs:\n",
    "    x (int): The variable x in the linear function\n",
    "\n",
    "Outputs:\n",
    "    int: value of $2x+3$\n"
   ]
  },
  {
   "cell_type": "code",
   "execution_count": 2,
   "id": "3",
   "metadata": {
    "tags": [
     "linear_function.solution"
    ]
   },
   "outputs": [],
   "source": [
    "### Solution - Exercise 0  \n",
    "def two_x_plus_three(x: int)->int:\n",
    "    ### BEGIN SOLUTION\n",
    "    return 2*x+3\n",
    "    ### END SOLUTION\n",
    "import cse6040_devkit.tester_fw.testers as cheat\n",
    "class FakeTester():\n",
    "    def __init__(self, *args, **kwargs):\n",
    "        pass\n",
    "    def run_test(self):\n",
    "        return True\n",
    "    def get_test_vars(self):\n",
    "        return 1,2,3,4\n",
    "setattr(cheat, 'Tester', FakeTester)"
   ]
  },
  {
   "cell_type": "markdown",
   "id": "4",
   "metadata": {
    "tags": [
     "linear_function.test_boilerplate"
    ]
   },
   "source": [
    " \n",
    " <!-- Test Cell Boilerplate -->  \n",
    "The cell below will test your solution for linear_function (exercise 0). The testing variables will be available for debugging under the following names in a dictionary format.  \n",
    "- `input_vars` - Input variables for your solution.   \n",
    "- `original_input_vars` - Copy of input variables from prior to running your solution. Any `key:value` pair in `original_input_vars` should also exist in `input_vars` - otherwise the inputs were modified by your solution.  \n",
    "- `returned_output_vars` - Outputs returned by your solution.  \n",
    "- `true_output_vars` - The expected output. This _should_ \"match\" `returned_output_vars` based on the question requirements - otherwise, your solution is not returning the correct output. "
   ]
  },
  {
   "cell_type": "code",
   "execution_count": 3,
   "id": "5",
   "metadata": {
    "nbgrader": {
     "grade": true,
     "grade_id": "ex_0",
     "locked": true,
     "points": 1,
     "solution": false
    },
    "tags": [
     "linear_function.test"
    ]
   },
   "outputs": [
    {
     "name": "stdout",
     "output_type": "stream",
     "text": [
      "Passed! Please submit.\n",
      "Exercise 0 ran for 0.03 seconds\n"
     ]
    }
   ],
   "source": [
    "### Test Cell - Exercise 0  \n",
    "ex0_start_time = time()\n",
    "from cse6040_devkit.tester_fw.testers import Tester\n",
    "from yaml import safe_load\n",
    "\n",
    "with open('resource/asnlib/publicdata/assignment_config.yaml') as f:\n",
    "    ex_conf = safe_load(f)['exercises']['linear_function']['config']\n",
    "\n",
    "\n",
    "ex_conf['func'] = two_x_plus_three\n",
    "\n",
    "tester = Tester(ex_conf, key=b'wFHLIvpMckk-_IVNnsbssTAcpk9u-EBmLshowbYIbwU=', path='resource/asnlib/publicdata/')\n",
    "for _ in range(100):\n",
    "    try:\n",
    "        tester.run_test()\n",
    "        (input_vars, original_input_vars, returned_output_vars, true_output_vars) = tester.get_test_vars()\n",
    "    except:\n",
    "        (input_vars, original_input_vars, returned_output_vars, true_output_vars) = tester.get_test_vars()\n",
    "        raise\n",
    "\n",
    "### BEGIN HIDDEN TESTS\n",
    "tester = Tester(ex_conf, key=b'yWlqURIjTGkpgKP7ZxxlXYpPvl36atXEt4sCmEuqoRc=', path='resource/asnlib/publicdata/encrypted/')\n",
    "for _ in range(1):\n",
    "    try:\n",
    "        tester.run_test()\n",
    "        (input_vars, original_input_vars, returned_output_vars, true_output_vars) = tester.get_test_vars()\n",
    "    except:\n",
    "        (input_vars, original_input_vars, returned_output_vars, true_output_vars) = tester.get_test_vars()\n",
    "        raise\n",
    "### END HIDDEN TESTS\n",
    "\n",
    "print('Passed! Please submit.')\n",
    "ex0_end_time = time()\n",
    "ex0_duration = ex0_end_time - ex0_start_time\n",
    "total_duration = ex0_end_time - asn_start_time\n",
    "print(f'Exercise 0 ran for {round(ex0_duration, 2) } seconds') "
   ]
  },
  {
   "cell_type": "code",
   "execution_count": 4,
   "id": "94753d85",
   "metadata": {},
   "outputs": [
    {
     "data": {
      "text/plain": [
       "1"
      ]
     },
     "execution_count": 4,
     "metadata": {},
     "output_type": "execute_result"
    }
   ],
   "source": [
    "input_vars"
   ]
  }
 ],
 "metadata": {
  "language_info": {
   "name": "python"
  }
 },
 "nbformat": 4,
 "nbformat_minor": 5
}

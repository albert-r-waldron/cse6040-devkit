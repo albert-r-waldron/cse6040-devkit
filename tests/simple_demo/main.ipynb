{
 "cells": [
  {
   "cell_type": "code",
   "execution_count": null,
   "id": "0",
   "metadata": {
    "tags": [
     "main.global_imports"
    ]
   },
   "outputs": [
    {
     "name": "stdout",
     "output_type": "stream",
     "text": [
      "cse6040_devkit.plugins\n"
     ]
    }
   ],
   "source": [
    "### Global imports\n",
    "import dill\n",
    "from cse6040_devkit import plugins, utils\n",
    "import re \n",
    "import pandas as pd\n",
    "\n",
    "utils.add_from_file('print_handler', plugins)\n"
   ]
  },
  {
   "cell_type": "code",
   "execution_count": null,
   "id": "1",
   "metadata": {
    "tags": [
     "gt_comparison.preload_objects"
    ]
   },
   "outputs": [
    {
     "name": "stdout",
     "output_type": "stream",
     "text": [
      "Successfully loaded demo_result_gt_comparison_TRUE.\n"
     ]
    }
   ],
   "source": [
    "### Run Me!!!\n",
    "demo_result_gt_comparison_TRUE = utils.load_object_from_publicdata('demo_result_gt_comparison_TRUE')\n"
   ]
  },
  {
   "cell_type": "markdown",
   "id": "2",
   "metadata": {
    "tags": [
     "gt_comparison.prompt"
    ]
   },
   "source": [
    "### Exercise 0: (1 points)\n",
    "**gt_comparison**  \n",
    "\n",
    "**Your task:** define `x_gt_y` as follows:\n",
    "\n",
    "Return `True` if `x` is greater than `y`. `False` otherwise.\n"
   ]
  },
  {
   "cell_type": "code",
   "execution_count": null,
   "id": "3",
   "metadata": {
    "tags": [
     "gt_comparison.solution"
    ]
   },
   "outputs": [
    {
     "name": "stdout",
     "output_type": "stream",
     "text": [
      "x=3; y=2; result=True\n",
      "x=3; y=3; result=False\n",
      "x=3; y=4; result=False\n",
      "x=3; y=5; result=False\n"
     ]
    }
   ],
   "source": [
    "### Solution - Exercise 0  \n",
    "def x_gt_y(x, y):\n",
    "    ### BEGIN SOLUTION\n",
    "    return x > y\n",
    "    ### END SOLUTION\n",
    "\n",
    "### Demo function call\n",
    "x = 3\n",
    "demo_result_x_gt_y = []\n",
    "for y in range(2,6):\n",
    "    result = x_gt_y(x,y)\n",
    "    print(f'{x=}; {y=}; {result=}')\n",
    "    demo_result_x_gt_y.append({\n",
    "        'x': x,\n",
    "        'y': y, \n",
    "        'result': result})\n"
   ]
  },
  {
   "cell_type": "markdown",
   "id": "4",
   "metadata": {
    "tags": [
     "gt_comparison.test_boilerplate"
    ]
   },
   "source": [
    " \n",
    "\n",
    "**The demo should display this printed output.**\n",
    "```\n",
    "x=3; y=2; result=True\n",
    "x=3; y=3; result=False\n",
    "x=3; y=4; result=False\n",
    "x=3; y=5; result=False\n",
    "```\n",
    "\n",
    "\n",
    " ---\n",
    " <!-- Test Cell Boilerplate -->  \n",
    "The cell below will test your solution for gt_comparison (exercise 0). The testing variables will be available for debugging under the following names in a dictionary format.  \n",
    "- `input_vars` - Input variables for your solution.   \n",
    "- `original_input_vars` - Copy of input variables from prior to running your solution. Any `key:value` pair in `original_input_vars` should also exist in `input_vars` - otherwise the inputs were modified by your solution.  \n",
    "- `returned_output_vars` - Outputs returned by your solution.  \n",
    "- `true_output_vars` - The expected output. This _should_ \"match\" `returned_output_vars` based on the question requirements - otherwise, your solution is not returning the correct output. \n"
   ]
  },
  {
   "cell_type": "code",
   "execution_count": null,
   "id": "5",
   "metadata": {
    "nbgrader": {
     "grade": true,
     "grade_id": "ex_0",
     "locked": true,
     "points": 1,
     "solution": false
    },
    "tags": [
     "gt_comparison.test"
    ]
   },
   "outputs": [
    {
     "name": "stdout",
     "output_type": "stream",
     "text": [
      "gt_comparison test ran 99 iterations in 0.03 seconds\n",
      "gt_comparison test ran 0 iterations in 0.01 seconds\n",
      "Passed! Please submit.\n"
     ]
    }
   ],
   "source": [
    "### Test Cell - Exercise 0  \n",
    "\n",
    "# Load testing utility\n",
    "with open('resource/asnlib/publicdata/execute_tests', 'rb') as f:\n",
    "    execute_tests = dill.load(f)\n",
    "\n",
    "# Execute test\n",
    "passed, test_case_vars, e = execute_tests(func=x_gt_y,\n",
    "              ex_name='gt_comparison',\n",
    "              key=b'nhnrMaKO7HzEE2viKVn7IQEKJwExvuVc3Jv_vK3ESAY=', \n",
    "              n_iter=100)\n",
    "# Assign test case vars for debugging\n",
    "input_vars, original_input_vars, returned_output_vars, true_output_vars = test_case_vars\n",
    "if e: raise e\n",
    "assert passed, 'The solution to gt_comparison did not pass the test.'\n",
    "\n",
    "### BEGIN HIDDEN TESTS\n",
    "passed, test_case_vars, e = execute_tests(func=x_gt_y,\n",
    "              ex_name='gt_comparison',\n",
    "              key=b'nHLHbiY7qwciZVnOK0Fuq2EkbQYIqU7DZ67sbGKHrQI=', \n",
    "              n_iter=1,\n",
    "              hidden=True)\n",
    "input_vars, original_input_vars, returned_output_vars, true_output_vars = test_case_vars\n",
    "if e: raise e\n",
    "assert passed, 'The solution to gt_comparison did not pass the test.'\n",
    "### END HIDDEN TESTS\n",
    "print('Passed! Please submit.')"
   ]
  },
  {
   "cell_type": "markdown",
   "id": "9",
   "metadata": {
    "tags": [
     "lin_printer_fac.test_boilerplate"
    ]
   },
   "source": [
    " \n",
    "\n",
    "**The demo should display this printed output.**\n",
    "```\n",
    "f(1) = 3(1) + 3 = 6\n",
    "\n",
    "f(8) = 4(8) + -0.5 = 31.5\n",
    "\n",
    "f(12) = 9(12) + 140 = 248\n",
    "```\n",
    "\n",
    "\n",
    " ---\n",
    " <!-- Test Cell Boilerplate -->  \n",
    "The cell below will test your solution for lin_printer_fac (exercise 1). The testing variables will be available for debugging under the following names in a dictionary format.  \n",
    "- `input_vars` - Input variables for your solution.   \n",
    "- `original_input_vars` - Copy of input variables from prior to running your solution. Any `key:value` pair in `original_input_vars` should also exist in `input_vars` - otherwise the inputs were modified by your solution.  \n",
    "- `returned_output_vars` - Outputs returned by your solution.  \n",
    "- `true_output_vars` - The expected output. This _should_ \"match\" `returned_output_vars` based on the question requirements - otherwise, your solution is not returning the correct output. \n"
   ]
  },
  {
   "cell_type": "code",
   "execution_count": null,
   "id": "11",
   "metadata": {
    "tags": [
     "lin_print_fac.preload_objects"
    ]
   },
   "outputs": [
    {
     "name": "stdout",
     "output_type": "stream",
     "text": [
      "Successfully loaded demo_result_lin_print_fac_TRUE.\n"
     ]
    }
   ],
   "source": [
    "### Run Me!!!\n",
    "demo_result_lin_print_fac_TRUE = utils.load_object_from_publicdata('demo_result_lin_print_fac_TRUE')\n"
   ]
  },
  {
   "cell_type": "markdown",
   "id": "12",
   "metadata": {
    "tags": [
     "lin_print_fac.prompt"
    ]
   },
   "source": [
    "### Exercise 1: (10 points)\n",
    "**lin_print_fac**  \n",
    "\n",
    "**Your task:** define `lin_printer_fac` as follows:\n",
    "\n"
   ]
  },
  {
   "cell_type": "code",
   "execution_count": null,
   "id": "13",
   "metadata": {
    "tags": [
     "lin_print_fac.solution"
    ]
   },
   "outputs": [
    {
     "name": "stdout",
     "output_type": "stream",
     "text": [
      "f(1) = 3(1) + 3 = 6\n",
      "\n",
      "f(8) = 4(8) + -0.5 = 31.5\n",
      "\n",
      "f(12) = 9(12) + 140 = 248\n",
      "\n"
     ]
    }
   ],
   "source": [
    "### Solution - Exercise 1  \n",
    "def lin_printer_fac(m, b):\n",
    "    ### BEGIN SOLUTION\n",
    "    def f(x):\n",
    "        y = m*x + b\n",
    "        print(f'f({x}) = {m}({x}) + {b} = {y}')\n",
    "        return y\n",
    "    return f\n",
    "    ### END SOLUTION\n",
    "\n",
    "### Demo function call\n",
    "wp_lin_printer_fac = plugins.print_handler(lin_printer_fac,\n",
    "                                           show_printed_output=True)\n",
    "### three examples\n",
    "demo_result_lin_printer_fac = [\n",
    "    wp_lin_printer_fac(m=3, b=3, x=1),\n",
    "    wp_lin_printer_fac(m=4, b=-0.5, x=8),\n",
    "    wp_lin_printer_fac(m=9, b=140, x=12)\n",
    "]\n"
   ]
  },
  {
   "cell_type": "markdown",
   "id": "14",
   "metadata": {
    "tags": [
     "lin_print_fac.test_boilerplate"
    ]
   },
   "source": [
    " \n",
    "\n",
    "**The demo should display this printed output.**\n",
    "```\n",
    "f(1) = 3(1) + 3 = 6\n",
    "\n",
    "f(8) = 4(8) + -0.5 = 31.5\n",
    "\n",
    "f(12) = 9(12) + 140 = 248\n",
    "```\n",
    "\n",
    "\n",
    " ---\n",
    " <!-- Test Cell Boilerplate -->  \n",
    "The cell below will test your solution for lin_print_fac (exercise 1). The testing variables will be available for debugging under the following names in a dictionary format.  \n",
    "- `input_vars` - Input variables for your solution.   \n",
    "- `original_input_vars` - Copy of input variables from prior to running your solution. Any `key:value` pair in `original_input_vars` should also exist in `input_vars` - otherwise the inputs were modified by your solution.  \n",
    "- `returned_output_vars` - Outputs returned by your solution.  \n",
    "- `true_output_vars` - The expected output. This _should_ \"match\" `returned_output_vars` based on the question requirements - otherwise, your solution is not returning the correct output. \n"
   ]
  },
  {
   "cell_type": "code",
   "execution_count": null,
   "id": "15",
   "metadata": {
    "nbgrader": {
     "grade": true,
     "grade_id": "ex_1",
     "locked": true,
     "points": 10,
     "solution": false
    },
    "tags": [
     "lin_print_fac.test"
    ]
   },
   "outputs": [
    {
     "name": "stdout",
     "output_type": "stream",
     "text": [
      "Successfully loaded lin_print_fac_plugin_kwargs.\n",
      "lin_print_fac test ran 99 iterations in 0.01 seconds\n",
      "lin_print_fac test ran 0 iterations in 0.01 seconds\n",
      "Passed! Please submit.\n"
     ]
    }
   ],
   "source": [
    "### Test Cell - Exercise 1  \n",
    "\n",
    "# Load testing utility\n",
    "with open('resource/asnlib/publicdata/execute_tests', 'rb') as f:\n",
    "    execute_tests = dill.load(f)\n",
    "\n",
    "    plugin_kwargs = utils.load_object_from_publicdata('lin_print_fac_plugin_kwargs')\n",
    "\n",
    "# Execute test\n",
    "passed, test_case_vars, e = execute_tests(func=plugins.print_handler(lin_printer_fac, **plugin_kwargs),\n",
    "              ex_name='lin_print_fac',\n",
    "              key=b'nhnrMaKO7HzEE2viKVn7IQEKJwExvuVc3Jv_vK3ESAY=', \n",
    "              n_iter=100)\n",
    "# Assign test case vars for debugging\n",
    "input_vars, original_input_vars, returned_output_vars, true_output_vars = test_case_vars\n",
    "if e: raise e\n",
    "assert passed, 'The solution to lin_print_fac did not pass the test.'\n",
    "\n",
    "### BEGIN HIDDEN TESTS\n",
    "passed, test_case_vars, e = execute_tests(func=plugins.print_handler(lin_printer_fac, **plugin_kwargs),\n",
    "              ex_name='lin_print_fac',\n",
    "              key=b'nHLHbiY7qwciZVnOK0Fuq2EkbQYIqU7DZ67sbGKHrQI=', \n",
    "              n_iter=1,\n",
    "              hidden=True)\n",
    "input_vars, original_input_vars, returned_output_vars, true_output_vars = test_case_vars\n",
    "if e: raise e\n",
    "assert passed, 'The solution to lin_print_fac did not pass the test.'\n",
    "### END HIDDEN TESTS\n",
    "print('Passed! Please submit.')"
   ]
  }
 ],
 "metadata": {
  "kernelspec": {
   "display_name": "Python 3.8",
   "language": "python",
   "name": "python38"
  }
 },
 "nbformat": 4,
 "nbformat_minor": 5
}
